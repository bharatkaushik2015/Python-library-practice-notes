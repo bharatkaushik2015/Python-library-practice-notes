{
  "nbformat": 4,
  "nbformat_minor": 0,
  "metadata": {
    "colab": {
      "provenance": [],
      "authorship_tag": "ABX9TyMLzt7ZmWHRwu7YOOf9dtKr",
      "include_colab_link": true
    },
    "kernelspec": {
      "name": "python3",
      "display_name": "Python 3"
    },
    "language_info": {
      "name": "python"
    }
  },
  "cells": [
    {
      "cell_type": "markdown",
      "metadata": {
        "id": "view-in-github",
        "colab_type": "text"
      },
      "source": [
        "<a href=\"https://colab.research.google.com/github/bharatkaushik2015/Python-library-practice-notes/blob/main/Python_OOPs.ipynb\" target=\"_parent\"><img src=\"https://colab.research.google.com/assets/colab-badge.svg\" alt=\"Open In Colab\"/></a>"
      ]
    },
    {
      "cell_type": "code",
      "execution_count": null,
      "metadata": {
        "id": "l3iwMZFR5l77"
      },
      "outputs": [],
      "source": [
        "# class cat\n",
        "class Cat:\n",
        "    def __init__(self,color,legs): # class constructor -> first argument is always self\n",
        "        self.color=color # attribute 1\n",
        "        self.legs=legs   # attribute 2\n",
        "\n",
        "felix = Cat(\"ginger\",4) # object 1\n"
      ]
    },
    {
      "cell_type": "code",
      "source": [
        "felix.color"
      ],
      "metadata": {
        "colab": {
          "base_uri": "https://localhost:8080/",
          "height": 35
        },
        "id": "YeWsso4JKtnp",
        "outputId": "68698a88-6f2f-4562-c779-de0502841869"
      },
      "execution_count": null,
      "outputs": [
        {
          "output_type": "execute_result",
          "data": {
            "text/plain": [
              "'ginger'"
            ],
            "application/vnd.google.colaboratory.intrinsic+json": {
              "type": "string"
            }
          },
          "metadata": {},
          "execution_count": 2
        }
      ]
    },
    {
      "cell_type": "code",
      "source": [
        "felix.legs"
      ],
      "metadata": {
        "colab": {
          "base_uri": "https://localhost:8080/"
        },
        "id": "Cz2BRiVYKv8l",
        "outputId": "dfef4013-0a68-4986-ef3c-cef4b4744b64"
      },
      "execution_count": null,
      "outputs": [
        {
          "output_type": "execute_result",
          "data": {
            "text/plain": [
              "4"
            ]
          },
          "metadata": {},
          "execution_count": 3
        }
      ]
    },
    {
      "cell_type": "code",
      "source": [
        "class Dog: # class named Dog\n",
        "    def __init__(self, name, color): # class constructor will be executed when bject will be initialised\n",
        "        self.name = name # attribute 1\n",
        "        self.color = color # attribute 2\n",
        "\n",
        "    def bark(self): # method associated class 'dog', all class should have first argument self\n",
        "        print(\"Woof!\")\n",
        "\n",
        "fido = Dog(\"Fido\", \"brown\") # object created\n",
        "print(fido.name)\n",
        "fido.bark()"
      ],
      "metadata": {
        "colab": {
          "base_uri": "https://localhost:8080/"
        },
        "id": "vBeblN6sLVGn",
        "outputId": "b959eba3-b6dc-4e82-97c3-8622383d6616"
      },
      "execution_count": null,
      "outputs": [
        {
          "output_type": "stream",
          "name": "stdout",
          "text": [
            "Fido\n",
            "Woof!\n"
          ]
        }
      ]
    },
    {
      "cell_type": "markdown",
      "source": [
        "Inheritance\n",
        "\n",
        "Inheritance provides a way to share functionality between classes.\n",
        "\n",
        "Imagine several classes, Cat, Dog, Rabbit and so on. Although they may differ in some ways (only Dog might have the method bark), they are likely to be similar in others (all having the attributes color and name).\n",
        "\n",
        "This similarity can be expressed by making them all inherit from a superclass Animal, which contains the shared functionality.\n",
        "\n",
        "To inherit a class from another class, put the superclass name in parentheses after the class name."
      ],
      "metadata": {
        "id": "6K9nAP6IME1R"
      }
    },
    {
      "cell_type": "code",
      "source": [
        "class Animal: # superclass\n",
        "    def __init__(self, name, color):\n",
        "        self.name = name\n",
        "        self.color = color\n",
        "\n",
        "class Cat(Animal): # class 'Cat' is subclass\n",
        "    def purr(self):\n",
        "        print(\"Purr...\")\n",
        "\n",
        "class Dog(Animal): # class 'Dog' os subclass\n",
        "    def bark(self):\n",
        "        print(\"Woof!\")\n",
        "\n",
        "fido = Dog(\"Fido\", \"brown\") # dog instance\n",
        "print(fido.color)\n",
        "fido.bark()"
      ],
      "metadata": {
        "colab": {
          "base_uri": "https://localhost:8080/"
        },
        "id": "v7egqZZ-MG-m",
        "outputId": "55b91983-754e-47ed-f717-1bab0646b58f"
      },
      "execution_count": null,
      "outputs": [
        {
          "output_type": "stream",
          "name": "stdout",
          "text": [
            "brown\n",
            "Woof!\n"
          ]
        }
      ]
    },
    {
      "cell_type": "code",
      "source": [
        "class Wolf:\n",
        "    def __init__(self, name, color):\n",
        "        self.name = name\n",
        "        self.color = color\n",
        "\n",
        "    def bark(self):\n",
        "        print(\"Grr...\")\n",
        "\n",
        "class Dog(Wolf):\n",
        "    def bark(self):\n",
        "        print(\"Woof\")\n",
        "\n",
        "husky = Dog(\"Max\", \"grey\")\n",
        "husky.bark() # when we call a method that is present in both subclass and superclass, then subclass method will obverride it"
      ],
      "metadata": {
        "colab": {
          "base_uri": "https://localhost:8080/"
        },
        "id": "PqVeijJ6Notp",
        "outputId": "6af05506-6170-4560-974c-d91339d97d1a"
      },
      "execution_count": null,
      "outputs": [
        {
          "output_type": "stream",
          "name": "stdout",
          "text": [
            "Woof\n"
          ]
        }
      ]
    },
    {
      "cell_type": "markdown",
      "source": [
        "The function super is a useful inheritance-related function that refers to the parent class. It can be used to find the method with a certain name in an object's superclass."
      ],
      "metadata": {
        "id": "vp0b3tQhOium"
      }
    },
    {
      "cell_type": "code",
      "source": [
        "class A:\n",
        "    def spam(self):\n",
        "        print(1)\n",
        "\n",
        "class B(A):\n",
        "    def spam(self):\n",
        "        print(2)\n",
        "        super().spam() # This function super can be used to call method from parent/super class\n",
        "\n",
        "B().spam()"
      ],
      "metadata": {
        "colab": {
          "base_uri": "https://localhost:8080/"
        },
        "id": "HPZK7wmiOhpp",
        "outputId": "045af2ec-895e-48a1-8ba0-de7a5ed296e2"
      },
      "execution_count": null,
      "outputs": [
        {
          "output_type": "stream",
          "name": "stdout",
          "text": [
            "2\n",
            "1\n"
          ]
        }
      ]
    },
    {
      "cell_type": "markdown",
      "source": [
        "**MAGIC METHODS**<br>\n",
        "Magic methods are special methods which have double underscores at the beginning and end of their names.\n",
        "\n",
        "They are also known as dunders.\n",
        "\n",
        "So far, the only one we have encountered is __init__, but there are several others.\n",
        "\n",
        "They are used to create functionality that can't be represented as a normal method.\n",
        "\n",
        "One common use of them is operator overloading.\n",
        "\n",
        "This means defining operators for custom classes that allow operators such as + and * to be used on them.\n",
        "\n",
        "An example magic method is __add__ for +."
      ],
      "metadata": {
        "id": "f5xxAnRPPkB4"
      }
    },
    {
      "cell_type": "code",
      "source": [
        "class Vector2D:\n",
        "    def __init__(self, x, y):\n",
        "        self.x = x\n",
        "        self.y = y\n",
        "    def __add__(self, other): # allows addition of two objects\n",
        "        return Vector2D(self.x + other.x, self.y + other.y)\n",
        "\n",
        "first = Vector2D(5, 7) # object 1\n",
        "second = Vector2D(3, 9) # object 2\n",
        "result = first + second\n",
        "print(result.x)\n",
        "print(result.y)"
      ],
      "metadata": {
        "colab": {
          "base_uri": "https://localhost:8080/"
        },
        "id": "gRUnyUZXOthb",
        "outputId": "e9a0b4da-afb0-4224-8931-626e0f87b034"
      },
      "execution_count": null,
      "outputs": [
        {
          "output_type": "stream",
          "name": "stdout",
          "text": [
            "8\n",
            "16\n"
          ]
        }
      ]
    },
    {
      "cell_type": "markdown",
      "source": [
        "More magic methods for common operators:\n",
        "\n",
        "__sub__ for -\n",
        "\n",
        "__mul__ for *\n",
        "\n",
        "__truediv__ for /\n",
        "\n",
        "__floordiv__ for //\n",
        "\n",
        "__mod__ for %\n",
        "\n",
        "__pow__ for **\n",
        "\n",
        "__and__ for &\n",
        "\n",
        "__xor__ for ^\n",
        "\n",
        "__or__ for |\n",
        "\n"
      ],
      "metadata": {
        "id": "bFDh-eI3G4-A"
      }
    },
    {
      "cell_type": "code",
      "source": [
        "class SpecialString:\n",
        "    def __init__(self, cont):\n",
        "        self.cont = cont\n",
        "\n",
        "    def __truediv__(self, other):\n",
        "        line = \"=\" * len(other.cont)\n",
        "        return \"\\n\".join([self.cont, line, other.cont])\n",
        "\n",
        "spam = SpecialString(\"spam\")\n",
        "hello = SpecialString(\"Hello world!\")\n",
        "print(spam / hello)"
      ],
      "metadata": {
        "colab": {
          "base_uri": "https://localhost:8080/"
        },
        "id": "6lpx-4iMGPM1",
        "outputId": "0642d2b3-e54e-4f2c-a178-4ba1cfd9b432"
      },
      "execution_count": null,
      "outputs": [
        {
          "output_type": "stream",
          "name": "stdout",
          "text": [
            "spam\n",
            "============\n",
            "Hello world!\n"
          ]
        }
      ]
    },
    {
      "cell_type": "markdown",
      "source": [
        "Python also provides magic methods for comparisons.\n",
        "\n",
        "__lt__ for <\n",
        "\n",
        "__le__ for <=\n",
        "\n",
        "__eq__ for ==\n",
        "\n",
        "__ne__ for !=\n",
        "\n",
        "__gt__ for >\n",
        "\n",
        "__ge__ for >=\n",
        "\n",
        " If __ne__ is not implemented, it returns the opposite of __eq__.\n",
        "\n",
        "There are no other relationships between the other operators."
      ],
      "metadata": {
        "id": "8ZIn66rqQhN2"
      }
    },
    {
      "cell_type": "code",
      "source": [
        "class SpecialString:\n",
        "    def __init__(self, cont):\n",
        "        self.cont = cont\n",
        "\n",
        "    def __gt__(self, other):\n",
        "        for index in range(len(other.cont)+1):\n",
        "            result = other.cont[:index] + \">\" + self.cont\n",
        "            result += \">\" + other.cont[index:]\n",
        "            print(result)\n",
        "\n",
        "spam = SpecialString(\"spam\")\n",
        "eggs = SpecialString(\"eggs\")\n",
        "spam > eggs"
      ],
      "metadata": {
        "colab": {
          "base_uri": "https://localhost:8080/"
        },
        "id": "_JOmbvFTQa_9",
        "outputId": "8e9bd7d0-2ee5-47e7-8595-badcac3c6162"
      },
      "execution_count": null,
      "outputs": [
        {
          "output_type": "stream",
          "name": "stdout",
          "text": [
            ">spam>eggs\n",
            "e>spam>ggs\n",
            "eg>spam>gs\n",
            "egg>spam>s\n",
            "eggs>spam>\n"
          ]
        }
      ]
    },
    {
      "cell_type": "markdown",
      "source": [
        "There are several magic methods for making classes act like containers.\n",
        "\n",
        "__len__ for len()\n",
        "\n",
        "__getitem__ for indexing\n",
        "\n",
        "__setitem__ for assigning to indexed values\n",
        "\n",
        "__delitem__ for deleting indexed values\n",
        "\n",
        "__iter__ for iteration over objects (e.g., in for loops)\n",
        "\n",
        "__contains__ for in\n",
        "\n",
        "There are many other magic methods that we won't cover here, such as __call__ for calling objects as functions, and __int__, __str__, and the like, for converting objects to built-in types.\n",
        "\n"
      ],
      "metadata": {
        "id": "U3yN5yuvSpu9"
      }
    },
    {
      "cell_type": "code",
      "source": [
        "import random\n",
        "\n",
        "class VagueList:\n",
        "    def __init__(self, cont):\n",
        "        self.cont = cont\n",
        "\n",
        "    def __getitem__(self, index):\n",
        "        return self.cont[index + random.randint(-1, 1)]\n",
        "\n",
        "    def __len__(self):\n",
        "        return random.randint(0, len(self.cont)*2)\n",
        "\n",
        "vague_list = VagueList([\"A\", \"B\", \"C\", \"D\", \"E\"])\n",
        "print(len(vague_list))\n",
        "print(len(vague_list))\n",
        "print(vague_list[2])\n",
        "print(vague_list[2])"
      ],
      "metadata": {
        "colab": {
          "base_uri": "https://localhost:8080/"
        },
        "id": "XFSYuWWBSMDt",
        "outputId": "890b8d54-a3bb-4865-d763-4f485d12cc2b"
      },
      "execution_count": null,
      "outputs": [
        {
          "output_type": "stream",
          "name": "stdout",
          "text": [
            "5\n",
            "1\n",
            "C\n",
            "C\n"
          ]
        }
      ]
    },
    {
      "cell_type": "markdown",
      "source": [
        "**DATA HIDING** <br>\n",
        "A key part of object-oriented programming is encapsulation, which involves packaging of related variables and functions into a single easy-to-use object -- an instance of a class.\n",
        "\n",
        "A related concept is data hiding, which states that implementation details of a class should be hidden, and a clean standard interface be presented for those who want to use the class.\n",
        "\n",
        "In other programming languages, this is usually done with private methods and attributes, which block external access to certain methods and attributes in a class.\n",
        "\n",
        "The Python philosophy is slightly different. It is often stated as \"we are all consenting adults here\", meaning that you shouldn't put arbitrary restrictions on accessing parts of a class. Hence there are no ways of enforcing that a method or attribute be strictly private."
      ],
      "metadata": {
        "id": "XvQ1npb9UjPP"
      }
    },
    {
      "cell_type": "code",
      "source": [
        "class Queue:\n",
        "    def __init__(self, contents):\n",
        "        self._hiddenlist = list(contents)\n",
        "\n",
        "    def push(self, value):\n",
        "        self._hiddenlist.insert(0, value)\n",
        "\n",
        "    def pop(self):\n",
        "        return self._hiddenlist.pop(-1)\n",
        "\n",
        "    def __repr__(self):\n",
        "        return \"Queue({})\".format(self._hiddenlist)\n",
        "\n",
        "queue = Queue([1, 2, 3])\n",
        "print(queue)\n",
        "queue.push(0)\n",
        "print(queue)\n",
        "queue.pop()\n",
        "print(queue)\n",
        "print(queue._hiddenlist)"
      ],
      "metadata": {
        "colab": {
          "base_uri": "https://localhost:8080/"
        },
        "id": "Y4SYnmnwUiKj",
        "outputId": "70efa196-6b7b-4dc5-e525-faf87d71678e"
      },
      "execution_count": null,
      "outputs": [
        {
          "output_type": "stream",
          "name": "stdout",
          "text": [
            "Queue([1, 2, 3])\n",
            "Queue([0, 1, 2, 3])\n",
            "Queue([0, 1, 2])\n",
            "[0, 1, 2]\n"
          ]
        }
      ]
    },
    {
      "cell_type": "code",
      "source": [
        "class Spam:\n",
        "    __egg = 7 # private variable\n",
        "    def print_egg(self):\n",
        "        print(self.__egg)\n",
        "\n",
        "s = Spam()\n",
        "s.print_egg()\n",
        "print(s._Spam__egg) # can access private variable by _class__privatemethod\n"
      ],
      "metadata": {
        "colab": {
          "base_uri": "https://localhost:8080/"
        },
        "id": "9BzkONFsdDM9",
        "outputId": "08e193a5-3b7b-416b-9097-55b13d199827"
      },
      "execution_count": null,
      "outputs": [
        {
          "output_type": "stream",
          "name": "stdout",
          "text": [
            "7\n",
            "7\n"
          ]
        }
      ]
    },
    {
      "cell_type": "code",
      "source": [
        "print(s.__egg) # cannot access private variable directly"
      ],
      "metadata": {
        "colab": {
          "base_uri": "https://localhost:8080/",
          "height": 141
        },
        "id": "nAV3GQoJdUrc",
        "outputId": "6cccbf3e-2745-4e41-ae6a-ae6d5e8ce058"
      },
      "execution_count": null,
      "outputs": [
        {
          "output_type": "error",
          "ename": "AttributeError",
          "evalue": "'Spam' object has no attribute '__egg'",
          "traceback": [
            "\u001b[0;31m---------------------------------------------------------------------------\u001b[0m",
            "\u001b[0;31mAttributeError\u001b[0m                            Traceback (most recent call last)",
            "\u001b[0;32m<ipython-input-13-78fdb272e551>\u001b[0m in \u001b[0;36m<cell line: 1>\u001b[0;34m()\u001b[0m\n\u001b[0;32m----> 1\u001b[0;31m \u001b[0mprint\u001b[0m\u001b[0;34m(\u001b[0m\u001b[0ms\u001b[0m\u001b[0;34m.\u001b[0m\u001b[0m__egg\u001b[0m\u001b[0;34m)\u001b[0m\u001b[0;34m\u001b[0m\u001b[0;34m\u001b[0m\u001b[0m\n\u001b[0m",
            "\u001b[0;31mAttributeError\u001b[0m: 'Spam' object has no attribute '__egg'"
          ]
        }
      ]
    },
    {
      "cell_type": "code",
      "source": [
        "class A:\n",
        "    def __init__(self, name):\n",
        "        self.name=name\n",
        "    def len(self):\n",
        "        return len(self.name)\n",
        "\n",
        "a=A(\"hello\")\n",
        "print(a.len())"
      ],
      "metadata": {
        "colab": {
          "base_uri": "https://localhost:8080/"
        },
        "id": "d1PKWIG_dk9t",
        "outputId": "718dde35-73e7-490b-d886-f5dc8445e637"
      },
      "execution_count": null,
      "outputs": [
        {
          "output_type": "stream",
          "name": "stdout",
          "text": [
            "5\n"
          ]
        }
      ]
    },
    {
      "cell_type": "code",
      "source": [
        "class A:\n",
        "    def __init__(self, name):\n",
        "        self.name=name\n",
        "    def _len(self): # weak private method that can be accessed from outside\n",
        "        return len(self.name)\n",
        "\n",
        "a=A(\"hello\")\n",
        "print(a._len())"
      ],
      "metadata": {
        "colab": {
          "base_uri": "https://localhost:8080/"
        },
        "id": "ue0wpMWJeHKN",
        "outputId": "be9020fa-fc63-480f-80a2-d083becaef85"
      },
      "execution_count": null,
      "outputs": [
        {
          "output_type": "stream",
          "name": "stdout",
          "text": [
            "5\n"
          ]
        }
      ]
    },
    {
      "cell_type": "code",
      "source": [
        "class A:\n",
        "    # instance method\n",
        "    def __init__(self, name):\n",
        "        self.name=name\n",
        "    # instance method, called by object\n",
        "    def __len(self): # strong private method that cannot be accessed from outside\n",
        "        return len(self.name)\n",
        "\n",
        "a=A(\"hello\")\n",
        "print(a._A__len()) # but can be accessed if we use _class__privatemethod with object instance"
      ],
      "metadata": {
        "colab": {
          "base_uri": "https://localhost:8080/"
        },
        "id": "SIksr147eOvk",
        "outputId": "a325480d-2639-43c9-82a0-7cee1b017559"
      },
      "execution_count": null,
      "outputs": [
        {
          "output_type": "stream",
          "name": "stdout",
          "text": [
            "5\n"
          ]
        }
      ]
    },
    {
      "cell_type": "markdown",
      "source": [
        "**CLASS METHOD**\n",
        "<br>\n",
        "Methods of objects we've looked at so far are called by an instance of a class, which is then passed to the self parameter of the method.\n",
        "\n",
        "Class methods are different -- they are called by a class, which is passed to the cls parameter of the method.\n",
        "\n",
        "A common use of these are factory methods, which instantiate an instance of a class, using different parameters than those usually passed to the class constructor.\n",
        "\n",
        "Class methods are marked with a classmethod decorator."
      ],
      "metadata": {
        "id": "lGrAaRnae4ys"
      }
    },
    {
      "cell_type": "code",
      "source": [
        "class Rectangle:\n",
        "    def __init__(self, width, height):\n",
        "        self.width = width\n",
        "        self.height = height\n",
        "\n",
        "    def calculate_area(self):\n",
        "        return self.width * self.height\n",
        "\n",
        "    @classmethod\n",
        "    def new_square(cls, side_length):\n",
        "        return cls(side_length, side_length)\n",
        "\n",
        "square = Rectangle.new_square(5)\n",
        "print(square.calculate_area())"
      ],
      "metadata": {
        "colab": {
          "base_uri": "https://localhost:8080/"
        },
        "id": "-eVLr6O2ej_M",
        "outputId": "087bb7c0-b996-412a-be23-43cc148ea4a4"
      },
      "execution_count": null,
      "outputs": [
        {
          "output_type": "stream",
          "name": "stdout",
          "text": [
            "25\n"
          ]
        }
      ]
    },
    {
      "cell_type": "code",
      "source": [
        "obj1=Rectangle(5,10)\n",
        "arr = obj1.new_square(20) # if we try to call class method through instance method it doesn't through error, instead it creates a class method object\n",
        "arr.calculate_area()"
      ],
      "metadata": {
        "colab": {
          "base_uri": "https://localhost:8080/"
        },
        "id": "9qc-poPoiG5-",
        "outputId": "0630367b-3b36-4189-a005-f109e7825532"
      },
      "execution_count": null,
      "outputs": [
        {
          "output_type": "execute_result",
          "data": {
            "text/plain": [
              "400"
            ]
          },
          "metadata": {},
          "execution_count": 41
        }
      ]
    },
    {
      "cell_type": "code",
      "source": [
        "obj = Rectangle(5,1000)\n",
        "print(obj.calculate_area())"
      ],
      "metadata": {
        "colab": {
          "base_uri": "https://localhost:8080/"
        },
        "id": "KpvPX8qTf0mF",
        "outputId": "62860e56-858b-439e-dfb5-6ba6f95a9529"
      },
      "execution_count": null,
      "outputs": [
        {
          "output_type": "stream",
          "name": "stdout",
          "text": [
            "5000\n"
          ]
        }
      ]
    },
    {
      "cell_type": "markdown",
      "source": [
        "**STATIC METHOD**"
      ],
      "metadata": {
        "id": "htM0-umcgqyh"
      }
    },
    {
      "cell_type": "code",
      "source": [
        "class Pizza:\n",
        "    def __init__(self, toppings):\n",
        "        self.toppings = toppings\n",
        "\n",
        "    @staticmethod\n",
        "    def validate_topping(topping):\n",
        "        \"\"\" static method can be called from class. Hence, they are a type of class method \"\"\"\n",
        "        if topping == \"pineapple\":\n",
        "            raise ValueError(\"No pineapples!\")\n",
        "        else:\n",
        "            print(True)\n",
        "\n",
        "ingredients = [\"cheese\", \"onions\", \"spam\"]\n",
        "if all(Pizza.validate_topping(i) for i in ingredients):\n",
        "    pizza = Pizza(ingredients)"
      ],
      "metadata": {
        "colab": {
          "base_uri": "https://localhost:8080/"
        },
        "id": "NOXk6V8rgtfK",
        "outputId": "2a1c4929-43ed-4126-e4c8-5e3f0e064aff"
      },
      "execution_count": 25,
      "outputs": [
        {
          "output_type": "stream",
          "name": "stdout",
          "text": [
            "True\n"
          ]
        }
      ]
    },
    {
      "cell_type": "code",
      "source": [
        "class A:\n",
        "    def __init__(self,name):\n",
        "        self.name=name\n",
        "    @staticmethod # can call this method through both instance and class\n",
        "    def len(name):\n",
        "        return len(name)\n",
        "\n",
        "a=A(\"hello\")\n",
        "print(a.len(\"hello\")) # called through object instance"
      ],
      "metadata": {
        "colab": {
          "base_uri": "https://localhost:8080/"
        },
        "id": "ReM4kEx8hWMX",
        "outputId": "ae0ffaa2-cc39-4db8-c85e-4e3c3132f342"
      },
      "execution_count": null,
      "outputs": [
        {
          "output_type": "stream",
          "name": "stdout",
          "text": [
            "5\n"
          ]
        }
      ]
    },
    {
      "cell_type": "code",
      "source": [
        "A.len(\"hello\") # called through class"
      ],
      "metadata": {
        "colab": {
          "base_uri": "https://localhost:8080/"
        },
        "id": "rS2xfMetht8u",
        "outputId": "80fdc762-5b74-401e-b8d8-f09397b67502"
      },
      "execution_count": null,
      "outputs": [
        {
          "output_type": "execute_result",
          "data": {
            "text/plain": [
              "5"
            ]
          },
          "metadata": {},
          "execution_count": 36
        }
      ]
    },
    {
      "cell_type": "markdown",
      "source": [
        "**Properties**\n",
        "<br>\n",
        "Properties provide a way of customizing access to instance attributes.\n",
        "\n",
        "They are created by putting the property decorator above a method, which means when the instance attribute with the same name as the method is accessed, the method will be called instead.\n",
        "\n",
        "One common use of a property is to make an attribute read-only."
      ],
      "metadata": {
        "id": "5DtlaSZcjeDE"
      }
    },
    {
      "cell_type": "code",
      "source": [
        "class Pizza:\n",
        "    def __init__(self, toppings):\n",
        "        self.toppings = toppings\n",
        "\n",
        "    @property\n",
        "    def pineapple_allowed(self):\n",
        "        return False\n",
        "\n",
        "pizza = Pizza([\"cheese\", \"tomato\"])\n",
        "print(pizza.pineapple_allowed)\n",
        "pizza.pineapple_allowed = True # cannot update property from object, hence that makes it read only"
      ],
      "metadata": {
        "colab": {
          "base_uri": "https://localhost:8080/",
          "height": 193
        },
        "id": "g_ov60LRjiOF",
        "outputId": "ec56e0ea-f050-40ea-afb1-3f5d81ea7688"
      },
      "execution_count": null,
      "outputs": [
        {
          "output_type": "stream",
          "name": "stdout",
          "text": [
            "False\n"
          ]
        },
        {
          "output_type": "error",
          "ename": "AttributeError",
          "evalue": "can't set attribute 'pineapple_allowed'",
          "traceback": [
            "\u001b[0;31m---------------------------------------------------------------------------\u001b[0m",
            "\u001b[0;31mAttributeError\u001b[0m                            Traceback (most recent call last)",
            "\u001b[0;32m<ipython-input-42-7d3f62f39dc0>\u001b[0m in \u001b[0;36m<cell line: 11>\u001b[0;34m()\u001b[0m\n\u001b[1;32m      9\u001b[0m \u001b[0mpizza\u001b[0m \u001b[0;34m=\u001b[0m \u001b[0mPizza\u001b[0m\u001b[0;34m(\u001b[0m\u001b[0;34m[\u001b[0m\u001b[0;34m\"cheese\"\u001b[0m\u001b[0;34m,\u001b[0m \u001b[0;34m\"tomato\"\u001b[0m\u001b[0;34m]\u001b[0m\u001b[0;34m)\u001b[0m\u001b[0;34m\u001b[0m\u001b[0;34m\u001b[0m\u001b[0m\n\u001b[1;32m     10\u001b[0m \u001b[0mprint\u001b[0m\u001b[0;34m(\u001b[0m\u001b[0mpizza\u001b[0m\u001b[0;34m.\u001b[0m\u001b[0mpineapple_allowed\u001b[0m\u001b[0;34m)\u001b[0m\u001b[0;34m\u001b[0m\u001b[0;34m\u001b[0m\u001b[0m\n\u001b[0;32m---> 11\u001b[0;31m \u001b[0mpizza\u001b[0m\u001b[0;34m.\u001b[0m\u001b[0mpineapple_allowed\u001b[0m \u001b[0;34m=\u001b[0m \u001b[0;32mTrue\u001b[0m\u001b[0;34m\u001b[0m\u001b[0;34m\u001b[0m\u001b[0m\n\u001b[0m",
            "\u001b[0;31mAttributeError\u001b[0m: can't set attribute 'pineapple_allowed'"
          ]
        }
      ]
    },
    {
      "cell_type": "code",
      "source": [
        "# Example -2\n",
        "class A:\n",
        "    def __init__(self,name):\n",
        "        self.name=name\n",
        "    @property\n",
        "    def len(self):\n",
        "        return len(self.name)\n",
        "\n",
        "a=A(\"hello\")\n",
        "print(a.len)"
      ],
      "metadata": {
        "colab": {
          "base_uri": "https://localhost:8080/"
        },
        "id": "OByRsbQLjtwG",
        "outputId": "6523975b-ed4b-4791-f6dd-c434a6f9a814"
      },
      "execution_count": null,
      "outputs": [
        {
          "output_type": "stream",
          "name": "stdout",
          "text": [
            "5\n"
          ]
        }
      ]
    },
    {
      "cell_type": "markdown",
      "source": [
        "PRACTICE QUESTIONS"
      ],
      "metadata": {
        "id": "YSONlPuZuxUv"
      }
    },
    {
      "cell_type": "code",
      "source": [
        "class test:\n",
        "     def __init__(self,a=\"Hello\"): # constructor can have default arguments\n",
        "         self.a=a\n",
        "\n",
        "     def display(self):\n",
        "         print(self.a)\n",
        "obj=test()\n",
        "obj.a = 'Bharat' # we can update data inside class from outside\n",
        "obj.display()"
      ],
      "metadata": {
        "colab": {
          "base_uri": "https://localhost:8080/"
        },
        "id": "81UoFaD8vdIX",
        "outputId": "4f0b52ba-3bb0-4e9f-e816-85b588d48d93"
      },
      "execution_count": 5,
      "outputs": [
        {
          "output_type": "stream",
          "name": "stdout",
          "text": [
            "Bharat\n"
          ]
        }
      ]
    },
    {
      "cell_type": "code",
      "source": [
        "class A:\n",
        "    def __init__(self,name):\n",
        "        self._name=name\n",
        "\n",
        "a=A(\"Hello\")\n",
        "print(a._name)"
      ],
      "metadata": {
        "colab": {
          "base_uri": "https://localhost:8080/"
        },
        "id": "n0EVms8wzH8O",
        "outputId": "1595c7bb-0741-4125-aa8f-2e02cc166477"
      },
      "execution_count": 9,
      "outputs": [
        {
          "output_type": "stream",
          "name": "stdout",
          "text": [
            "Hello\n"
          ]
        }
      ]
    },
    {
      "cell_type": "code",
      "source": [
        "# setattr\n",
        "setattr(A,'_name',\"Bharat\") # assigned value to both object and class\n",
        "A._name"
      ],
      "metadata": {
        "colab": {
          "base_uri": "https://localhost:8080/",
          "height": 35
        },
        "id": "O-HKvEVszojg",
        "outputId": "123b5ac8-dc69-4614-a4b2-332c66b99892"
      },
      "execution_count": 17,
      "outputs": [
        {
          "output_type": "execute_result",
          "data": {
            "text/plain": [
              "'Bharat'"
            ],
            "application/vnd.google.colaboratory.intrinsic+json": {
              "type": "string"
            }
          },
          "metadata": {},
          "execution_count": 17
        }
      ]
    },
    {
      "cell_type": "code",
      "source": [
        "getattr(a,'_name') # class atribute"
      ],
      "metadata": {
        "colab": {
          "base_uri": "https://localhost:8080/",
          "height": 35
        },
        "id": "xDfd4t3R28PQ",
        "outputId": "8bd059ae-d2a8-4448-f4d9-71bf8ea552dd"
      },
      "execution_count": 18,
      "outputs": [
        {
          "output_type": "execute_result",
          "data": {
            "text/plain": [
              "'Bharat'"
            ],
            "application/vnd.google.colaboratory.intrinsic+json": {
              "type": "string"
            }
          },
          "metadata": {},
          "execution_count": 18
        }
      ]
    },
    {
      "cell_type": "code",
      "source": [
        "getattr(A,'_name') # object atribute"
      ],
      "metadata": {
        "colab": {
          "base_uri": "https://localhost:8080/",
          "height": 35
        },
        "id": "-xR_jRQX3BuN",
        "outputId": "b83c1296-e005-4644-bfcc-5052d9d88699"
      },
      "execution_count": 19,
      "outputs": [
        {
          "output_type": "execute_result",
          "data": {
            "text/plain": [
              "'Bharat'"
            ],
            "application/vnd.google.colaboratory.intrinsic+json": {
              "type": "string"
            }
          },
          "metadata": {},
          "execution_count": 19
        }
      ]
    },
    {
      "cell_type": "code",
      "source": [
        "class test:\n",
        "    def __init__(self):\n",
        "        self.variable = 'Old'\n",
        "        self.Change(self.variable)\n",
        "    def Change(self, var):\n",
        "        var = 'New'\n",
        "obj=test()\n",
        "print(obj.variable)\n"
      ],
      "metadata": {
        "colab": {
          "base_uri": "https://localhost:8080/"
        },
        "id": "eYbGRKyP4KSO",
        "outputId": "a544fd6f-3996-4ad3-db02-ab01691941bb"
      },
      "execution_count": 23,
      "outputs": [
        {
          "output_type": "stream",
          "name": "stdout",
          "text": [
            "Old\n"
          ]
        }
      ]
    },
    {
      "cell_type": "code",
      "source": [
        "class A:\n",
        "    \"\"\" My name is Bharat\"\"\"\n",
        "\n",
        "A.__doc__ # display doc-string"
      ],
      "metadata": {
        "colab": {
          "base_uri": "https://localhost:8080/",
          "height": 35
        },
        "id": "aN5h-focd3kg",
        "outputId": "48d53cde-042a-4669-d637-8de4f75d2f04"
      },
      "execution_count": 1,
      "outputs": [
        {
          "output_type": "execute_result",
          "data": {
            "text/plain": [
              "' My name is Bharat'"
            ],
            "application/vnd.google.colaboratory.intrinsic+json": {
              "type": "string"
            }
          },
          "metadata": {},
          "execution_count": 1
        }
      ]
    },
    {
      "cell_type": "code",
      "source": [
        "A.__name__ # display class name"
      ],
      "metadata": {
        "colab": {
          "base_uri": "https://localhost:8080/",
          "height": 35
        },
        "id": "sX6wF07leKYh",
        "outputId": "8bfb82ae-8cac-4bc9-a55e-f6ca4ff9d472"
      },
      "execution_count": 2,
      "outputs": [
        {
          "output_type": "execute_result",
          "data": {
            "text/plain": [
              "'A'"
            ],
            "application/vnd.google.colaboratory.intrinsic+json": {
              "type": "string"
            }
          },
          "metadata": {},
          "execution_count": 2
        }
      ]
    },
    {
      "cell_type": "code",
      "source": [],
      "metadata": {
        "id": "2xK3_tzReUcx"
      },
      "execution_count": null,
      "outputs": []
    }
  ]
}