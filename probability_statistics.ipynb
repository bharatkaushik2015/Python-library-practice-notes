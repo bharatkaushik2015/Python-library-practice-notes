{
  "nbformat": 4,
  "nbformat_minor": 0,
  "metadata": {
    "colab": {
      "provenance": [],
      "authorship_tag": "ABX9TyMhjuj9TgcHUUyStxRuMuek",
      "include_colab_link": true
    },
    "kernelspec": {
      "name": "python3",
      "display_name": "Python 3"
    },
    "language_info": {
      "name": "python"
    }
  },
  "cells": [
    {
      "cell_type": "markdown",
      "metadata": {
        "id": "view-in-github",
        "colab_type": "text"
      },
      "source": [
        "<a href=\"https://colab.research.google.com/github/bharatkaushik2015/Python-library-practice-notes/blob/main/probability_statistics.ipynb\" target=\"_parent\"><img src=\"https://colab.research.google.com/assets/colab-badge.svg\" alt=\"Open In Colab\"/></a>"
      ]
    },
    {
      "cell_type": "markdown",
      "source": [
        "**Probability**\n",
        "1. P(A)=n(A)/n(S) -> probability of event A = no of times event A occured divided by total number in sample space\n",
        "2. P(A union B) = P(A) + P(B) - P(A intersection B)\n",
        "3. Conditional probability -> P(A/B)=P(A given B have occurred)\n",
        "4. Joint probability -> P(A intersection B)\n",
        "5. Marginal Probability -> P(A) & P(B)\n",
        "6. Baye's Theorem -> P(A/B)= (P(B/A)*P(A))/P(B) -> Manually use tree method or venn diagram to solve these problem's\n",
        "7. If both event A and B are independent, then P(A intersection B)= P(A)*P(B)\n",
        "8. If both event A and B are mutually exclusive, Then P(A union B) = P(A) + P(B)\n"
      ],
      "metadata": {
        "id": "NHnqPw8-lcgM"
      }
    },
    {
      "cell_type": "markdown",
      "source": [
        "**Normal Distribution**\n",
        "1. has two parameters mu(mean) and sigma(standard deviation)\n",
        "2. symmetrical in nature\n",
        "3. mean = median = mode\n",
        "4. follows 68-95-99.7 rule:\n",
        "    1. +sigma to -sigma lies 68.2% data\n",
        "    2. +sigma to -2sigma lies 95.4% data\n",
        "    3. +3sigma to -3sigma lies 99.7% data\n",
        "\n",
        "\n",
        "\n",
        "\n",
        "\n"
      ],
      "metadata": {
        "id": "ulkbdFYt0Vau"
      }
    },
    {
      "cell_type": "markdown",
      "source": [
        "**Central Limit Theorem**\n",
        "\n",
        "mean of samples i.e. sample mean's (n= sample size) calculated from any distribution are normally distributed.\n",
        "1. mean of sample means is equal to population mean of distribution\n",
        "2. sample means SD is equal to population SD divided by square root sample size(n).\n",
        "\n",
        "Condition's for central limit theorem to be true:\n",
        "\n",
        "1. The sample size is sufficiently large. This condition is usually met if the size of the sample is n ≥ 30.\n",
        "2. The samples are independent and identically distributed, i.e., random variables. The sampling should be random.\n",
        "3. The population’s distribution has a finite variance. The central limit theorem doesn’t apply to distributions with infinite variance."
      ],
      "metadata": {
        "id": "StfZBgPr2D21"
      }
    },
    {
      "cell_type": "markdown",
      "source": [
        "**Standard error**\n",
        "\n",
        "standard deviation (sample SD) of samples mean's is called standard error.\n",
        "\n",
        "SE= population SD(sigma)/square root(n= sample size)"
      ],
      "metadata": {
        "id": "_uIS_9Oa5N-r"
      }
    },
    {
      "cell_type": "code",
      "source": [
        "# percent point value of the distribution\n",
        "from scipy.stats import norm\n",
        "mean=119\n",
        "sd=13.1\n",
        "ans = norm.ppf(0.9,loc=mean,scale=sd)\n",
        "ans"
      ],
      "metadata": {
        "colab": {
          "base_uri": "https://localhost:8080/"
        },
        "id": "sh4lP90p3biP",
        "outputId": "b5fb3620-b0eb-4de8-a644-bf2e48f98165"
      },
      "execution_count": 6,
      "outputs": [
        {
          "output_type": "execute_result",
          "data": {
            "text/plain": [
              "135.78832550863427"
            ]
          },
          "metadata": {},
          "execution_count": 6
        }
      ]
    },
    {
      "cell_type": "code",
      "source": [
        "# norm.pdf provides probability of that particular point in the distribution\n",
        "# norm.cdf provides probability of all the points less than 65 in the distribution in this particualr case\n",
        "mean = 60\n",
        "sd = 10\n",
        "1- norm.cdf(65,loc=mean,scale=sd)\n"
      ],
      "metadata": {
        "colab": {
          "base_uri": "https://localhost:8080/"
        },
        "id": "1vvUdtm_8V0b",
        "outputId": "d9401118-d391-463b-cad2-16bb1e957775"
      },
      "execution_count": 7,
      "outputs": [
        {
          "output_type": "execute_result",
          "data": {
            "text/plain": [
              "0.3085375387259869"
            ]
          },
          "metadata": {},
          "execution_count": 7
        }
      ]
    },
    {
      "cell_type": "code",
      "source": [
        "mean = 65\n",
        "sd = 4\n",
        "norm.cdf(60,loc=mean,scale=sd)"
      ],
      "metadata": {
        "colab": {
          "base_uri": "https://localhost:8080/"
        },
        "id": "rlWRpKgA-dYT",
        "outputId": "3d8e9e1c-6e01-4ed2-c181-4e234fc46768"
      },
      "execution_count": 8,
      "outputs": [
        {
          "output_type": "execute_result",
          "data": {
            "text/plain": [
              "0.10564977366685535"
            ]
          },
          "metadata": {},
          "execution_count": 8
        }
      ]
    },
    {
      "cell_type": "code",
      "source": [
        "mean = 50\n",
        "sd = 2\n",
        "norm.ppf(0.01, loc=mean,scale=sd)"
      ],
      "metadata": {
        "colab": {
          "base_uri": "https://localhost:8080/"
        },
        "id": "P57QN2RZ-347",
        "outputId": "eb501d3b-7a9d-4d40-cc6d-80483e77e9c2"
      },
      "execution_count": 9,
      "outputs": [
        {
          "output_type": "execute_result",
          "data": {
            "text/plain": [
              "45.34730425191832"
            ]
          },
          "metadata": {},
          "execution_count": 9
        }
      ]
    },
    {
      "cell_type": "code",
      "source": [
        "mean = 170\n",
        "sd = 10\n",
        "z=1.5\n",
        "x= mean+z*sd\n",
        "x"
      ],
      "metadata": {
        "colab": {
          "base_uri": "https://localhost:8080/"
        },
        "id": "cToVa2WMAP8q",
        "outputId": "70c66b34-cec3-4c90-b0b9-9e62a469405a"
      },
      "execution_count": 10,
      "outputs": [
        {
          "output_type": "execute_result",
          "data": {
            "text/plain": [
              "185.0"
            ]
          },
          "metadata": {},
          "execution_count": 10
        }
      ]
    },
    {
      "cell_type": "code",
      "source": [
        "mean = 25\n",
        "sd = 3\n",
        "x = 20\n",
        "z = (x-mean)/sd\n",
        "z"
      ],
      "metadata": {
        "colab": {
          "base_uri": "https://localhost:8080/"
        },
        "id": "kc1NQF6aA1Rj",
        "outputId": "6183e840-f09b-40db-824f-5d9302104bb0"
      },
      "execution_count": 11,
      "outputs": [
        {
          "output_type": "execute_result",
          "data": {
            "text/plain": [
              "-1.6666666666666667"
            ]
          },
          "metadata": {},
          "execution_count": 11
        }
      ]
    },
    {
      "cell_type": "code",
      "source": [
        "# central limit theorem\n",
        "import numpy as np\n",
        "mean = 90\n",
        "sd = 15\n",
        "n = 35\n",
        "se = sd/(np.sqrt(n))\n",
        "norm.cdf(92,loc=mean,scale=se) - norm.cdf(85,loc=mean,scale=se)"
      ],
      "metadata": {
        "colab": {
          "base_uri": "https://localhost:8080/"
        },
        "id": "eo51HDFwCVmg",
        "outputId": "6229758c-225a-4cb1-d28a-e1a88a15bcb7"
      },
      "execution_count": 12,
      "outputs": [
        {
          "output_type": "execute_result",
          "data": {
            "text/plain": [
              "0.7605853690971865"
            ]
          },
          "metadata": {},
          "execution_count": 12
        }
      ]
    },
    {
      "cell_type": "code",
      "source": [
        "mean = 5\n",
        "sd = 0.5\n",
        "n = 5\n",
        "se = sd/np.sqrt(n)\n",
        "norm.cdf(5.5,loc=mean,scale=se)"
      ],
      "metadata": {
        "colab": {
          "base_uri": "https://localhost:8080/"
        },
        "id": "AZn6OQc0dWmv",
        "outputId": "82d01125-e2c6-41da-e1eb-87365e9c6686"
      },
      "execution_count": 13,
      "outputs": [
        {
          "output_type": "execute_result",
          "data": {
            "text/plain": [
              "0.9873263406612659"
            ]
          },
          "metadata": {},
          "execution_count": 13
        }
      ]
    },
    {
      "cell_type": "markdown",
      "source": [
        "**Confidence Interval**\n",
        "\n",
        "95% confidence means that there is 95% chance that the population parameters lies in the calculated range.\n",
        "\n",
        "1. if (sample size) n>=30, then we can use Z-statistic to calculate CI.\n",
        "    1. CI = [ population mean - ZxSE , population mean + ZxSE ], where SE = population SD/sqrt(n)\n",
        "\n",
        "2. if n<30 and we donot know population standard deviation, then\n",
        "    1. CI = [ population mean - t-Statistic*(SE) , population mean + t-Statistic*(SE) ], where SE = sample standard deviation/sqrt(n)\n",
        "\n",
        "\n",
        "\n"
      ],
      "metadata": {
        "id": "4CRpZwkYfEoJ"
      }
    },
    {
      "cell_type": "code",
      "source": [
        "mean = 900\n",
        "sd = 50\n",
        "n = 20\n",
        "se = sd/np.sqrt(n)\n",
        "norm.cdf(875,loc=mean,scale=se)"
      ],
      "metadata": {
        "colab": {
          "base_uri": "https://localhost:8080/"
        },
        "id": "MS8tfYY6k06y",
        "outputId": "eb88d721-d670-4653-db04-814080dfb06f"
      },
      "execution_count": 14,
      "outputs": [
        {
          "output_type": "execute_result",
          "data": {
            "text/plain": [
              "0.012673659338734126"
            ]
          },
          "metadata": {},
          "execution_count": 14
        }
      ]
    },
    {
      "cell_type": "code",
      "source": [
        "mean = 28\n",
        "sd = 7\n",
        "n = 50\n",
        "norm.cdf(31,loc=mean,scale=sd/np.sqrt(n))-norm.cdf(26,loc=mean,scale=sd/np.sqrt(n))"
      ],
      "metadata": {
        "colab": {
          "base_uri": "https://localhost:8080/"
        },
        "id": "Exv3CD32lVMI",
        "outputId": "d4ebaf88-2582-4fd8-f7f1-db6e40971f74"
      },
      "execution_count": 15,
      "outputs": [
        {
          "output_type": "execute_result",
          "data": {
            "text/plain": [
              "0.9771032071594303"
            ]
          },
          "metadata": {},
          "execution_count": 15
        }
      ]
    },
    {
      "cell_type": "code",
      "source": [
        "sample_mean=24\n",
        "n=100\n",
        "pop_sd=8\n",
        "CI= sample_mean - np.round(norm.ppf(0.95),3)*(pop_sd/np.sqrt(n)),sample_mean + np.round(norm.ppf(0.95),3)*(pop_sd/np.sqrt(n))\n",
        "CI"
      ],
      "metadata": {
        "colab": {
          "base_uri": "https://localhost:8080/"
        },
        "id": "wPUs1juXlwwk",
        "outputId": "867a500c-efb4-43b9-bf78-597700618cdb"
      },
      "execution_count": 16,
      "outputs": [
        {
          "output_type": "execute_result",
          "data": {
            "text/plain": [
              "(22.684, 25.316)"
            ]
          },
          "metadata": {},
          "execution_count": 16
        }
      ]
    },
    {
      "cell_type": "code",
      "source": [
        "# confidence interval through code\n",
        "norm.interval(0.95,loc=sample_mean,scale=pop_sd/np.sqrt(n))"
      ],
      "metadata": {
        "colab": {
          "base_uri": "https://localhost:8080/"
        },
        "id": "6qBegffOmrGj",
        "outputId": "1547bdfb-847b-4697-a9f3-c94cb3195d48"
      },
      "execution_count": 17,
      "outputs": [
        {
          "output_type": "execute_result",
          "data": {
            "text/plain": [
              "(22.432028812367957, 25.567971187632043)"
            ]
          },
          "metadata": {},
          "execution_count": 17
        }
      ]
    },
    {
      "cell_type": "code",
      "source": [
        "mean = 75\n",
        "sd = 10\n",
        "n = 100\n",
        "se = sd/np.sqrt(n)\n",
        "norm.interval(0.90,loc=mean,scale=se)"
      ],
      "metadata": {
        "colab": {
          "base_uri": "https://localhost:8080/"
        },
        "id": "gke4n5iCoOdY",
        "outputId": "ce06b425-6dd5-48bd-9921-3b8f386c6f74"
      },
      "execution_count": 18,
      "outputs": [
        {
          "output_type": "execute_result",
          "data": {
            "text/plain": [
              "(73.35514637304853, 76.64485362695147)"
            ]
          },
          "metadata": {},
          "execution_count": 18
        }
      ]
    },
    {
      "cell_type": "code",
      "source": [
        "mean = 165\n",
        "sd = 8\n",
        "n = 100\n",
        "se = sd/np.sqrt(n)\n",
        "norm.interval(0.9,loc=mean,scale=se)"
      ],
      "metadata": {
        "colab": {
          "base_uri": "https://localhost:8080/"
        },
        "id": "F4UFkbJdpBeq",
        "outputId": "6a4c524b-c9c1-4802-e7c8-d1323364b266"
      },
      "execution_count": 19,
      "outputs": [
        {
          "output_type": "execute_result",
          "data": {
            "text/plain": [
              "(163.68411709843883, 166.31588290156117)"
            ]
          },
          "metadata": {},
          "execution_count": 19
        }
      ]
    },
    {
      "cell_type": "markdown",
      "source": [
        "**Hypothesis testing**\n",
        "\n",
        "H0: Null Hypothesis -> supports status quo\n",
        "\n",
        "Ha: Alternate Hypothesis -> anti-status quo\n",
        "\n",
        "Example: New marketing campaign will improve the revenue\n",
        "\n",
        "H0: marketing campaign will have no effect on revenue\n",
        "\n",
        "Ha: marketing campaign will improve revenue\n",
        "\n",
        "Type 1 error (FP) : Support Ha, but H0 is true\n",
        "\n",
        "Type 2 error (FN) : Support H0, but Ha is true\n",
        "\n",
        "We start any Hypothesis-testing problem with 2 things:\n",
        "- Assumption\n",
        "- Data\n",
        "\n",
        "There exists a framework to compute a quantifiable metric (pvalue) that will help us decide if we should accept or reject our null hypothesis.\n",
        "\n",
        "\n",
        "<font color='purple'>**Let's summarise it into steps:-**</font>\n",
        "\n",
        "1. Setup Null and Alternate Hypothesis\n",
        "2. Choose the **test statistic**.\n",
        "3. Select the Left vs Right vs Two-Tailed test, as per the hypothesis\n",
        "4. Compute the P-Value\n",
        "5. Compare the P-Value to the Significance Level (α) and Fail to reject/reject the Null Hypothesis accordingly.\n",
        " - Another term closely related to Significance Level is **Confidence Level**\n",
        " - If we're using $α =0.05$, this means that 5% significance\n",
        " - This can also be said, 95% confidence"
      ],
      "metadata": {
        "id": "bJcloz0ws2Qx"
      }
    },
    {
      "cell_type": "markdown",
      "source": [
        "**what is P-value?**\n",
        "\n",
        "p-value is a measurement of how confident we are that two groups are different from each other.\n",
        "    \n",
        "p-value in most cases is 0.05, which means that 5% of the times the difference between two groups will be due to random chance, while 95% of the time there will be actual difference. hence, it also means that we will have chance of 5% false positive.\n",
        "\n",
        "But p-value only tells us that difference exist, we can't conclude on the level of difference. Meaning that difference between two groups can be small and large but that we cannnot decide from p-value.\n",
        "\n",
        "\n",
        "\n",
        "\n"
      ],
      "metadata": {
        "id": "L6w_MC8Ly0RL"
      }
    },
    {
      "cell_type": "markdown",
      "source": [
        "**One sample Z-test**\n",
        "\n",
        "A statistical test performemed to check assumptions about one numerical groups"
      ],
      "metadata": {
        "id": "Dhr0SluH0oSP"
      }
    },
    {
      "cell_type": "code",
      "source": [
        "# problem-1\n",
        "mean = 65\n",
        "sd = 2.5\n",
        "sample_mean = 64.5\n",
        "n = 20\n",
        "alpha = 0.05\n",
        "# H0 : population mean = sample-mean, No difference between heights sample and population\n",
        "# Ha : sample_mean < population mean, there exist difference between sample mean and population mean\n",
        "se = sd/np.sqrt(n)\n",
        "z = (sample_mean-mean)/se\n",
        "# p-value (left-tail test)\n",
        "p = norm.cdf(z)\n",
        "if p > alpha :\n",
        "    print(\"Fail to reject H0\")\n",
        "else :\n",
        "    print(\"reject H0\")\n"
      ],
      "metadata": {
        "colab": {
          "base_uri": "https://localhost:8080/"
        },
        "id": "z6ENP7uB0son",
        "outputId": "bae112ed-ee69-46fc-d717-03dc77733ff1"
      },
      "execution_count": 20,
      "outputs": [
        {
          "output_type": "stream",
          "name": "stdout",
          "text": [
            "Fail to reject H0\n"
          ]
        }
      ]
    },
    {
      "cell_type": "code",
      "source": [
        "# problem-2\n",
        "# step-1\n",
        "mean = 150\n",
        "sd = 8.5\n",
        "n = 10\n",
        "sample_mean = 155\n",
        "se = sd/np.sqrt(n)\n",
        "# step-2 (setting up H0 and Ha)\n",
        "# H0: students are not better, sample_mean = mean\n",
        "# Ha: students are better, sample_mean > mean\n",
        "\n",
        "# step-3 choosing test-statistic, we are choosing Z-statistic\n",
        "# step-4(choose type of test) right tailed test\n",
        "\n",
        "z=(sample_mean-mean)/se\n",
        "# p-value\n",
        "p= 1 - norm.cdf(z)\n",
        "if p > alpha :\n",
        "    print(\"Fail to reject H0\")\n",
        "else :\n",
        "    print(\"reject H0\")\n",
        "p"
      ],
      "metadata": {
        "colab": {
          "base_uri": "https://localhost:8080/"
        },
        "id": "AHMAMwKV-bVH",
        "outputId": "6eaad0ee-85b8-43a3-eeff-0e27a1e2f94c"
      },
      "execution_count": 21,
      "outputs": [
        {
          "output_type": "stream",
          "name": "stdout",
          "text": [
            "reject H0\n"
          ]
        },
        {
          "output_type": "execute_result",
          "data": {
            "text/plain": [
              "0.031431210741779014"
            ]
          },
          "metadata": {},
          "execution_count": 21
        }
      ]
    },
    {
      "cell_type": "code",
      "source": [
        "# problem 5\n",
        "z=1.28\n",
        "mean = 3.5\n",
        "sd = 0.7\n",
        "n=45\n",
        "se = sd/np.sqrt(n)\n",
        "\n",
        "sample_mean = mean + z*se"
      ],
      "metadata": {
        "id": "Sj_QWAxfBZDa"
      },
      "execution_count": 22,
      "outputs": []
    },
    {
      "cell_type": "code",
      "source": [
        "sample_mean"
      ],
      "metadata": {
        "colab": {
          "base_uri": "https://localhost:8080/"
        },
        "id": "WVmB_1LlCBY3",
        "outputId": "dc17f8f4-d8d0-4602-8135-2465603267c0"
      },
      "execution_count": 23,
      "outputs": [
        {
          "output_type": "execute_result",
          "data": {
            "text/plain": [
              "3.6335677938559874"
            ]
          },
          "metadata": {},
          "execution_count": 23
        }
      ]
    },
    {
      "cell_type": "markdown",
      "source": [
        "**T-test**\n",
        "\n",
        "A statistical test used to compare means of two numerical groups (numerical and categorical can also be used for ttest), also we use t-test when we don't know population standard deviation\n",
        "\n",
        "3 types of test:\n",
        "1. ttest using one sample\n",
        "2. ttest using two sample\n",
        "3. paired ttest"
      ],
      "metadata": {
        "id": "D23eDKyLCdm9"
      }
    },
    {
      "cell_type": "code",
      "source": [
        "# problem-1\n",
        "from scipy.stats import ttest_1samp, ttest_ind, ttest_rel\n",
        "pop_mean = 12\n",
        "sample = np.array([14.3,12.6,13.7,10.9,13.7,12.0,11.4,12.0,12.6,13.1])\n",
        "\n",
        "# H0: sample_mean = pop_mean\n",
        "# Ha: sample_mean > pop_mean\n",
        "\n",
        "t,p = ttest_1samp(sample,pop_mean, alternative='greater')\n",
        "alpha = 0.05\n",
        "\n",
        "if p < alpha:\n",
        "    print(\"Reject H0\")\n",
        "else:\n",
        "    print(\"Fail to reject H0\")\n",
        "p"
      ],
      "metadata": {
        "colab": {
          "base_uri": "https://localhost:8080/"
        },
        "id": "HAcXW_VbDUCF",
        "outputId": "95bddf71-414f-40eb-8951-cc97ab7d2cd5"
      },
      "execution_count": 24,
      "outputs": [
        {
          "output_type": "stream",
          "name": "stdout",
          "text": [
            "Reject H0\n"
          ]
        },
        {
          "output_type": "execute_result",
          "data": {
            "text/plain": [
              "0.04979938002326665"
            ]
          },
          "metadata": {},
          "execution_count": 24
        }
      ]
    },
    {
      "cell_type": "code",
      "source": [
        "# problem-2\n",
        "pop_mean = 175.3\n",
        "sample = np.array([177.3, 182.7, 169.6, 176.3, 180.3, 179.4, 178.5, 177.2, 181.8, 176.5])\n",
        "\n",
        "# H0: sample_mean = pop_mean\n",
        "# Ha: sample_mean <> pop_mean\n",
        "\n",
        "t,p = ttest_1samp(sample,pop_mean)\n",
        "alpha = 0.05\n",
        "\n",
        "if p < alpha:\n",
        "    print(\"Reject H0\")\n",
        "else:\n",
        "    print(\"Fail to reject H0\")\n",
        "p"
      ],
      "metadata": {
        "colab": {
          "base_uri": "https://localhost:8080/"
        },
        "id": "Yuznu9VjCX2-",
        "outputId": "d36fa548-ad88-4d1a-b58c-bd45698c989a"
      },
      "execution_count": 25,
      "outputs": [
        {
          "output_type": "stream",
          "name": "stdout",
          "text": [
            "Reject H0\n"
          ]
        },
        {
          "output_type": "execute_result",
          "data": {
            "text/plain": [
              "0.04734137339747034"
            ]
          },
          "metadata": {},
          "execution_count": 25
        }
      ]
    },
    {
      "cell_type": "code",
      "source": [
        "# problem-3\n",
        "pop_mean = 20\n",
        "sample = np.array([21.5, 24.5, 18.5, 17.2, 14.5, 23.2, 22.1, 20.5, 19.4, 18.1, 24.1, 18.5])\n",
        "\n",
        "# H0: sample_mean = pop_mean\n",
        "# Ha: sample_mean > pop_mean\n",
        "\n",
        "t,p = ttest_1samp(sample,pop_mean, alternative='greater')\n",
        "alpha = 0.05\n",
        "\n",
        "if p < alpha:\n",
        "    print(\"Reject H0\")\n",
        "else:\n",
        "    print(\"Fail to reject H0\")\n",
        "p"
      ],
      "metadata": {
        "colab": {
          "base_uri": "https://localhost:8080/"
        },
        "id": "bXZfDa_mLusk",
        "outputId": "bd259440-b269-4ff2-bb9c-40049fb4e48d"
      },
      "execution_count": 26,
      "outputs": [
        {
          "output_type": "stream",
          "name": "stdout",
          "text": [
            "Fail to reject H0\n"
          ]
        },
        {
          "output_type": "execute_result",
          "data": {
            "text/plain": [
              "0.4223145946526807"
            ]
          },
          "metadata": {},
          "execution_count": 26
        }
      ]
    },
    {
      "cell_type": "code",
      "source": [
        "# problem-4\n",
        "men = np.array([13.3, 6.0, 20.0, 8.0, 14.0, 19.0, 18.0, 25.0, 16.0, 24.0, 15.0, 1.0, 15.0])\n",
        "women = np.array([22.0, 16.0, 21.7, 21.0, 30.0, 26.0, 12.0, 23.2, 28.0, 23.0])\n",
        "\n",
        "# H0: sample_mean = pop_mean\n",
        "# Ha: sample_mean <> pop_mean\n",
        "\n",
        "t,p = ttest_ind(men,women)\n",
        "alpha = 0.05\n",
        "\n",
        "if p < alpha:\n",
        "    print(\"Reject H0\")\n",
        "else:\n",
        "    print(\"Fail to reject H0\")\n",
        "p"
      ],
      "metadata": {
        "colab": {
          "base_uri": "https://localhost:8080/"
        },
        "id": "aUlwD0dWMokm",
        "outputId": "6bbe1888-6061-4609-a107-64a11a495db2"
      },
      "execution_count": 27,
      "outputs": [
        {
          "output_type": "stream",
          "name": "stdout",
          "text": [
            "Reject H0\n"
          ]
        },
        {
          "output_type": "execute_result",
          "data": {
            "text/plain": [
              "0.010730607904197957"
            ]
          },
          "metadata": {},
          "execution_count": 27
        }
      ]
    },
    {
      "cell_type": "code",
      "source": [
        "# problem-4\n",
        "s1 = np.array([115, 111, 112, 101, 95, 98, 100, 90, 89, 108])\n",
        "s2 = np.array([107, 103, 91, 99, 104, 98, 117, 113, 92, 96, 108, 115, 116, 88])\n",
        "\n",
        "# H0: sample_mean = pop_mean\n",
        "# Ha: sample_mean <> pop_mean\n",
        "\n",
        "t,p = ttest_ind(s1,s2)\n",
        "alpha = 0.05\n",
        "\n",
        "if p < alpha:\n",
        "    print(\"Reject H0\")\n",
        "else:\n",
        "    print(\"Fail to reject H0\")\n",
        "p"
      ],
      "metadata": {
        "colab": {
          "base_uri": "https://localhost:8080/"
        },
        "id": "28dUKXzWNZn1",
        "outputId": "6b3729c2-bd4a-4408-c8e4-f88dfd42008f"
      },
      "execution_count": 28,
      "outputs": [
        {
          "output_type": "stream",
          "name": "stdout",
          "text": [
            "Fail to reject H0\n"
          ]
        },
        {
          "output_type": "execute_result",
          "data": {
            "text/plain": [
              "0.7154458095186707"
            ]
          },
          "metadata": {},
          "execution_count": 28
        }
      ]
    },
    {
      "cell_type": "markdown",
      "source": [
        "**Chi Statistic**\n",
        "\n",
        "1. Goodness of fit test - 1 categorical value (observed values vs expected values)\n",
        "2. test of independence - 2 categorical values (dependence vs independence)\n",
        "\n",
        "Assumptions of Chi-square tests:\n",
        "1. random sample\n",
        "2. variables are categorical\n",
        "3. Mutually Exclusive groups\n",
        "4. Onservations are independent (will not work on paired samples, usually before/after scenarios, or same observation coming from same customer, store etc )\n",
        "5. values of expected cell should be more than 5 in 80% of cells and no cell should have an expected value of less than one."
      ],
      "metadata": {
        "id": "xgPxbNRTZMos"
      }
    },
    {
      "cell_type": "code",
      "source": [
        "# problem-1\n",
        "# h0 : marital status and drinks per month independent\n",
        "# ha : marital status and drinks per month dependent\n",
        "\n",
        "observed = [[67,213,74],[411,633,129],[85,51,7],[27,60,15]]\n",
        "from scipy.stats import chisquare, chi2_contingency\n",
        "chi2,p, dof,exp=chi2_contingency(observed)\n",
        "\n",
        "chi2,p"
      ],
      "metadata": {
        "colab": {
          "base_uri": "https://localhost:8080/"
        },
        "id": "FRd4o1zzah_o",
        "outputId": "f7932ae0-4127-4732-9bd3-7ecfc44b34bf"
      },
      "execution_count": 29,
      "outputs": [
        {
          "output_type": "execute_result",
          "data": {
            "text/plain": [
              "(94.26880078578765, 3.925170647869838e-18)"
            ]
          },
          "metadata": {},
          "execution_count": 29
        }
      ]
    },
    {
      "cell_type": "code",
      "source": [
        "# problem-2\n",
        "# h0 : Education and diabetes are independent\n",
        "# ha : Education and diabetes are dependent\n",
        "\n",
        "observed = [[33,218],[25,389],[20,393],[17,178]]\n",
        "from scipy.stats import chisquare, chi2_contingency\n",
        "chi2,p, dof,exp=chi2_contingency(observed)\n",
        "\n",
        "print(chi2,p)\n",
        "if p<0.001:\n",
        "    print(\"Reject H0\")\n",
        "else:\n",
        "    print(\"Fail to reject H0\")"
      ],
      "metadata": {
        "colab": {
          "base_uri": "https://localhost:8080/"
        },
        "id": "wFAAwvwzb4PP",
        "outputId": "d7720264-0028-405b-a4d4-0f11587104e2"
      },
      "execution_count": 30,
      "outputs": [
        {
          "output_type": "stream",
          "name": "stdout",
          "text": [
            "17.51186847271713 0.000554511571355531\n",
            "Reject H0\n"
          ]
        }
      ]
    },
    {
      "cell_type": "code",
      "source": [
        "# problem-3\n",
        "# h0 : Education and religion are independent\n",
        "# ha : Education and religion are dependent\n",
        "\n",
        "observed = [[77,149,78],[23,56,36],[8,24,29],[6,15,8]]\n",
        "from scipy.stats import chisquare, chi2_contingency\n",
        "chi2,p, dof,exp=chi2_contingency(observed)\n",
        "alpha=0.05\n",
        "print(chi2,p)\n",
        "if p<alpha:\n",
        "    print(\"Reject H0\")\n",
        "else:\n",
        "    print(\"Fail to reject H0\")"
      ],
      "metadata": {
        "colab": {
          "base_uri": "https://localhost:8080/"
        },
        "id": "2vZwOdiucqo3",
        "outputId": "2392f037-1f3e-4fd4-8508-6c1e5aaad09c"
      },
      "execution_count": 31,
      "outputs": [
        {
          "output_type": "stream",
          "name": "stdout",
          "text": [
            "13.322313008960627 0.038193742691133806\n",
            "Reject H0\n"
          ]
        }
      ]
    },
    {
      "cell_type": "markdown",
      "source": [
        "**One Way ANOVA test**\n",
        "\n",
        "We calculate F-statistic and p-value using f_oneway , our main aim is to compare means of more than 2 groups.\n",
        "\n",
        "Here F-statistic = Variance between groups/ Variance within groups\n",
        "\n",
        "Assumption of one-way ANOVA Test:\n",
        "\n",
        "1. all the >2 groups/category are normally distributed (to check Normality: QQplot or shapiro wilk test, KS test)\n",
        "2. all the records of each group are independent\n",
        "3. variance of each group are equal (levene test to check this assumption)\n",
        "\n",
        "If we are not able to satisfy these assumtptions then we can use kruskal-wallis test"
      ],
      "metadata": {
        "id": "A7KLocPoSMEb"
      }
    },
    {
      "cell_type": "code",
      "source": [
        "from scipy.stats import f_oneway, kruskal, levene , shapiro\n",
        "from statsmodels.api import qqplot"
      ],
      "metadata": {
        "id": "1jLTkYfwTysf"
      },
      "execution_count": 32,
      "outputs": []
    },
    {
      "cell_type": "code",
      "source": [
        "# problem - 1\n",
        "a = [13, 8, 11, 12, 11]\n",
        "b = [15, 10, 16, 11, 13, 10]\n",
        "c = [5, 11, 9, 5]\n",
        "d = [8, 10, 6, 5, 7]\n",
        "\n",
        "f_oneway(a,b,c,d)"
      ],
      "metadata": {
        "colab": {
          "base_uri": "https://localhost:8080/"
        },
        "id": "V9qLf9iWUDsd",
        "outputId": "32c0ef1f-01c7-420f-8139-ff4eb5e926e8"
      },
      "execution_count": 33,
      "outputs": [
        {
          "output_type": "execute_result",
          "data": {
            "text/plain": [
              "F_onewayResult(statistic=6.324748040313554, pvalue=0.0049302919205628576)"
            ]
          },
          "metadata": {},
          "execution_count": 33
        }
      ]
    },
    {
      "cell_type": "code",
      "source": [
        "# problem - 2\n",
        "one_star = [382, 391, 335, 368, 400, 372]\n",
        "two_star = [560, 343, 512, 329, 391, 367]\n",
        "three_star = [384, 458, 409, 309, 374, 459]\n",
        "four_star = [325, 390, 304, 240, 306, 169]\n",
        "five_star = [360, 298, 272, 368, 320, 326]\n",
        "\n",
        "f_oneway(one_star,two_star,three_star,four_star,five_star)\n"
      ],
      "metadata": {
        "colab": {
          "base_uri": "https://localhost:8080/"
        },
        "id": "uz3R13Z7Ub6j",
        "outputId": "1bc1d4ac-a037-4647-8b74-a33128a37d80"
      },
      "execution_count": 34,
      "outputs": [
        {
          "output_type": "execute_result",
          "data": {
            "text/plain": [
              "F_onewayResult(statistic=4.238644902556343, pvalue=0.009362001936328837)"
            ]
          },
          "metadata": {},
          "execution_count": 34
        }
      ]
    },
    {
      "cell_type": "code",
      "source": [
        "# problem - 3\n",
        "Brand_A = [19.60, 18.82, 19.00, 18.45, 19.79, 19.03, 17.89, 19.42]\n",
        "Brand_B = [21.10, 20.00, 20.43, 19.67, 18.99, 19.98, 20.14, 19.78]\n",
        "Brand_C = [10.31, 10.02, 9.41, 9.89, 10.05, 10.52, 11.02, 10.42]\n",
        "Brand_D = [17.02, 16.71, 17.78, 18.65, 15.98, 17.63, 17.00, 16.78, 16.92, 17.14]\n",
        "\n",
        "f_stat,p = f_oneway(Brand_A,Brand_B,Brand_C,Brand_D)\n",
        "alpha = 0.02\n",
        "if p < alpha:\n",
        "    print('Reject H0')\n",
        "else:\n",
        "    print('Fail to reject H0')\n",
        "p\n"
      ],
      "metadata": {
        "colab": {
          "base_uri": "https://localhost:8080/"
        },
        "id": "VMS5JzKgUz5F",
        "outputId": "80dbc257-f01f-46a1-bba7-674ff48ac872"
      },
      "execution_count": 35,
      "outputs": [
        {
          "output_type": "stream",
          "name": "stdout",
          "text": [
            "Reject H0\n"
          ]
        },
        {
          "output_type": "execute_result",
          "data": {
            "text/plain": [
              "2.392149441499325e-24"
            ]
          },
          "metadata": {},
          "execution_count": 35
        }
      ]
    },
    {
      "cell_type": "code",
      "source": [
        "ttest_ind(Brand_A,Brand_B)"
      ],
      "metadata": {
        "colab": {
          "base_uri": "https://localhost:8080/"
        },
        "id": "IV9C4vAGVV2Q",
        "outputId": "fbf0a639-50f5-46ed-caf3-0d914affa0da"
      },
      "execution_count": 36,
      "outputs": [
        {
          "output_type": "execute_result",
          "data": {
            "text/plain": [
              "TtestResult(statistic=-3.281024608464368, pvalue=0.005464761718691163, df=14.0)"
            ]
          },
          "metadata": {},
          "execution_count": 36
        }
      ]
    },
    {
      "cell_type": "code",
      "source": [
        "ttest_ind(Brand_A,Brand_C)"
      ],
      "metadata": {
        "colab": {
          "base_uri": "https://localhost:8080/"
        },
        "id": "aC-q9kOkVgpE",
        "outputId": "3ad0369a-ab98-4538-f037-059a591db7b7"
      },
      "execution_count": 37,
      "outputs": [
        {
          "output_type": "execute_result",
          "data": {
            "text/plain": [
              "TtestResult(statistic=31.59766943587199, pvalue=2.0378129111849533e-14, df=14.0)"
            ]
          },
          "metadata": {},
          "execution_count": 37
        }
      ]
    },
    {
      "cell_type": "code",
      "source": [
        "ttest_ind(Brand_A,Brand_D)"
      ],
      "metadata": {
        "colab": {
          "base_uri": "https://localhost:8080/"
        },
        "id": "U1_suc77Vqn5",
        "outputId": "7d97a16c-a18a-43b4-d4d6-3923cf3a4528"
      },
      "execution_count": 38,
      "outputs": [
        {
          "output_type": "execute_result",
          "data": {
            "text/plain": [
              "TtestResult(statistic=5.702213789495044, pvalue=3.271164766368406e-05, df=16.0)"
            ]
          },
          "metadata": {},
          "execution_count": 38
        }
      ]
    },
    {
      "cell_type": "code",
      "source": [
        "ttest_ind(Brand_B,Brand_C)"
      ],
      "metadata": {
        "colab": {
          "base_uri": "https://localhost:8080/"
        },
        "id": "_6Pu23EJVtws",
        "outputId": "475395a8-c26e-419c-adc1-251fdb2150af"
      },
      "execution_count": 39,
      "outputs": [
        {
          "output_type": "execute_result",
          "data": {
            "text/plain": [
              "TtestResult(statistic=35.80102299364571, pvalue=3.618464053986992e-15, df=14.0)"
            ]
          },
          "metadata": {},
          "execution_count": 39
        }
      ]
    },
    {
      "cell_type": "code",
      "source": [
        "ttest_ind(Brand_B,Brand_D)"
      ],
      "metadata": {
        "colab": {
          "base_uri": "https://localhost:8080/"
        },
        "id": "h91tABI4V1M2",
        "outputId": "61633fd6-aa21-40fe-b668-ad7151eb1d4e"
      },
      "execution_count": 40,
      "outputs": [
        {
          "output_type": "execute_result",
          "data": {
            "text/plain": [
              "TtestResult(statistic=8.920885777183635, pvalue=1.3124601764847073e-07, df=16.0)"
            ]
          },
          "metadata": {},
          "execution_count": 40
        }
      ]
    },
    {
      "cell_type": "code",
      "source": [
        "ttest_ind(Brand_C,Brand_D)"
      ],
      "metadata": {
        "colab": {
          "base_uri": "https://localhost:8080/"
        },
        "id": "raI7u8suV8s9",
        "outputId": "4501442c-fdb5-46ed-97a3-abc521f85412"
      },
      "execution_count": 41,
      "outputs": [
        {
          "output_type": "execute_result",
          "data": {
            "text/plain": [
              "TtestResult(statistic=-23.410707401229885, pvalue=8.33672049161488e-14, df=16.0)"
            ]
          },
          "metadata": {},
          "execution_count": 41
        }
      ]
    }
  ]
}