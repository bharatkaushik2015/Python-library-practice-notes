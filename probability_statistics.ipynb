{
  "nbformat": 4,
  "nbformat_minor": 0,
  "metadata": {
    "colab": {
      "provenance": [],
      "authorship_tag": "ABX9TyPZzN7nR22cAI0p4Ua9URFh",
      "include_colab_link": true
    },
    "kernelspec": {
      "name": "python3",
      "display_name": "Python 3"
    },
    "language_info": {
      "name": "python"
    }
  },
  "cells": [
    {
      "cell_type": "markdown",
      "metadata": {
        "id": "view-in-github",
        "colab_type": "text"
      },
      "source": [
        "<a href=\"https://colab.research.google.com/github/bharatkaushik2015/Python-library-practice-notes/blob/main/probability_statistics.ipynb\" target=\"_parent\"><img src=\"https://colab.research.google.com/assets/colab-badge.svg\" alt=\"Open In Colab\"/></a>"
      ]
    },
    {
      "cell_type": "markdown",
      "source": [
        "**Probability**\n",
        "1. P(A)=n(A)/n(S) -> probability of event A = no of times event A occured divided by total number in sample space\n",
        "2. P(A union B) = P(A) + P(B) - P(A intersection B)\n",
        "3. Conditional probability -> P(A/B)=P(A given B have occurred)\n",
        "4. Joint probability -> P(A intersection B)\n",
        "5. Marginal Probability -> P(A) & P(B)\n",
        "6. Baye's Theorem -> P(A/B)= (P(B/A)*P(A))/P(B) -> Manually use tree method or venn diagram to solve these problem's\n",
        "7. If both event A and B are independent, then P(A intersection B)= P(A)*P(B)\n",
        "8. If both event A and B are mutually exclusive, Then P(A union B) = P(A) + P(B)\n"
      ],
      "metadata": {
        "id": "NHnqPw8-lcgM"
      }
    },
    {
      "cell_type": "markdown",
      "source": [
        "**Normal Distribution**\n",
        "1. has two parameters mu(mean) and sigma(standard deviation)\n",
        "2. symmetrical in nature\n",
        "3. mean = median = mode\n",
        "4. follows 68-95-99.7 rule:\n",
        "    1. +sigma to -sigma lies 68.2% data\n",
        "    2. +sigma to -2sigma lies 95.4% data\n",
        "    3. +3sigma to -3sigma lies 99.7% data\n",
        "\n",
        "\n",
        "\n",
        "\n",
        "\n"
      ],
      "metadata": {
        "id": "ulkbdFYt0Vau"
      }
    },
    {
      "cell_type": "markdown",
      "source": [
        "**Central Limit Theorem**\n",
        "\n",
        "mean of samples i.e. sample mean's (n= sample size) calculated from any distribution are normally distributed.\n",
        "1. mean of sample means is equal to population mean of distribution\n",
        "2. sample means SD is equal to population SD divided by square root sample size(n).\n",
        "\n",
        "Condition's for central limit theorem to be true:\n",
        "\n",
        "1. The sample size is sufficiently large. This condition is usually met if the size of the sample is n ≥ 30.\n",
        "2. The samples are independent and identically distributed, i.e., random variables. The sampling should be random.\n",
        "3. The population’s distribution has a finite variance. The central limit theorem doesn’t apply to distributions with infinite variance."
      ],
      "metadata": {
        "id": "StfZBgPr2D21"
      }
    },
    {
      "cell_type": "markdown",
      "source": [
        "**Standard error**\n",
        "\n",
        "standard deviation (sample SD) of samples mean's is called standard error.\n",
        "\n",
        "SE= population SD(sigma)/square root(n= sample size)"
      ],
      "metadata": {
        "id": "_uIS_9Oa5N-r"
      }
    },
    {
      "cell_type": "code",
      "source": [
        "# percent point value of the distribution\n",
        "from scipy.stats import norm\n",
        "mean=119\n",
        "sd=13.1\n",
        "ans = norm.ppf(0.9,loc=mean,scale=sd)\n",
        "ans"
      ],
      "metadata": {
        "colab": {
          "base_uri": "https://localhost:8080/"
        },
        "id": "sh4lP90p3biP",
        "outputId": "1c1db696-dadd-465b-d5e6-25e46176b1e3"
      },
      "execution_count": 2,
      "outputs": [
        {
          "output_type": "execute_result",
          "data": {
            "text/plain": [
              "135.78832550863427"
            ]
          },
          "metadata": {},
          "execution_count": 2
        }
      ]
    },
    {
      "cell_type": "code",
      "source": [
        "# norm.pdf provides probability of that particular point in the distribution\n",
        "# norm.cdf provides probability of all the points less than 65 in the distribution in this particualr case\n",
        "mean = 60\n",
        "sd = 10\n",
        "1- norm.cdf(65,loc=mean,scale=sd)\n"
      ],
      "metadata": {
        "colab": {
          "base_uri": "https://localhost:8080/"
        },
        "id": "1vvUdtm_8V0b",
        "outputId": "f902c86c-77fe-4949-cbe2-57dade0aad96"
      },
      "execution_count": 3,
      "outputs": [
        {
          "output_type": "execute_result",
          "data": {
            "text/plain": [
              "0.3085375387259869"
            ]
          },
          "metadata": {},
          "execution_count": 3
        }
      ]
    },
    {
      "cell_type": "code",
      "source": [
        "mean = 65\n",
        "sd = 4\n",
        "norm.cdf(60,loc=mean,scale=sd)"
      ],
      "metadata": {
        "colab": {
          "base_uri": "https://localhost:8080/"
        },
        "id": "rlWRpKgA-dYT",
        "outputId": "459e9f38-17bf-46a2-efb0-6126ae5bdbf5"
      },
      "execution_count": 4,
      "outputs": [
        {
          "output_type": "execute_result",
          "data": {
            "text/plain": [
              "0.10564977366685535"
            ]
          },
          "metadata": {},
          "execution_count": 4
        }
      ]
    },
    {
      "cell_type": "code",
      "source": [
        "mean = 50\n",
        "sd = 2\n",
        "norm.ppf(0.01, loc=mean,scale=sd)"
      ],
      "metadata": {
        "colab": {
          "base_uri": "https://localhost:8080/"
        },
        "id": "P57QN2RZ-347",
        "outputId": "1cad11d8-8987-476d-ce33-77f5a9a11859"
      },
      "execution_count": 5,
      "outputs": [
        {
          "output_type": "execute_result",
          "data": {
            "text/plain": [
              "45.34730425191832"
            ]
          },
          "metadata": {},
          "execution_count": 5
        }
      ]
    },
    {
      "cell_type": "code",
      "source": [
        "mean = 170\n",
        "sd = 10\n",
        "z=1.5\n",
        "x= mean+z*sd\n",
        "x"
      ],
      "metadata": {
        "colab": {
          "base_uri": "https://localhost:8080/"
        },
        "id": "cToVa2WMAP8q",
        "outputId": "517eb894-d04e-40f6-9424-542d26f1941b"
      },
      "execution_count": 6,
      "outputs": [
        {
          "output_type": "execute_result",
          "data": {
            "text/plain": [
              "185.0"
            ]
          },
          "metadata": {},
          "execution_count": 6
        }
      ]
    },
    {
      "cell_type": "code",
      "source": [
        "mean = 25\n",
        "sd = 3\n",
        "x = 20\n",
        "z = (x-mean)/sd\n",
        "z"
      ],
      "metadata": {
        "colab": {
          "base_uri": "https://localhost:8080/"
        },
        "id": "kc1NQF6aA1Rj",
        "outputId": "a9800dbf-ebe5-4132-b062-04b6b4e0dc43"
      },
      "execution_count": 7,
      "outputs": [
        {
          "output_type": "execute_result",
          "data": {
            "text/plain": [
              "-1.6666666666666667"
            ]
          },
          "metadata": {},
          "execution_count": 7
        }
      ]
    },
    {
      "cell_type": "code",
      "source": [
        "# central limit theorem\n",
        "import numpy as np\n",
        "mean = 90\n",
        "sd = 15\n",
        "n = 35\n",
        "se = sd/(np.sqrt(n))\n",
        "norm.cdf(92,loc=mean,scale=se) - norm.cdf(85,loc=mean,scale=se)"
      ],
      "metadata": {
        "colab": {
          "base_uri": "https://localhost:8080/"
        },
        "id": "eo51HDFwCVmg",
        "outputId": "34b9db66-ce7d-45f1-df91-6df1c6de4bbf"
      },
      "execution_count": 8,
      "outputs": [
        {
          "output_type": "execute_result",
          "data": {
            "text/plain": [
              "0.7605853690971865"
            ]
          },
          "metadata": {},
          "execution_count": 8
        }
      ]
    },
    {
      "cell_type": "code",
      "source": [
        "mean = 5\n",
        "sd = 0.5\n",
        "n = 5\n",
        "se = sd/np.sqrt(n)\n",
        "norm.cdf(5.5,loc=mean,scale=se)"
      ],
      "metadata": {
        "colab": {
          "base_uri": "https://localhost:8080/"
        },
        "id": "AZn6OQc0dWmv",
        "outputId": "f51b378e-4c77-407b-d643-c624c1071f18"
      },
      "execution_count": 10,
      "outputs": [
        {
          "output_type": "execute_result",
          "data": {
            "text/plain": [
              "0.9873263406612659"
            ]
          },
          "metadata": {},
          "execution_count": 10
        }
      ]
    },
    {
      "cell_type": "markdown",
      "source": [
        "**Confidence Interval**\n",
        "\n",
        "95% confidence means that there is 95% chance that the population parameters lies in the calculated range.\n",
        "\n",
        "1. if (sample size) n>=30, then we can use Z-statistic to calculate CI.\n",
        "    1. CI = [ population mean - ZxSE , population mean + ZxSE ], where SE = population SD/sqrt(n)\n",
        "\n",
        "2. if n<30 and we donot know population standard deviation, then\n",
        "    1. CI = [ population mean - t-Statistic*(SE) , population mean + t-Statistic*(SE) ], where SE = sample standard deviation/sqrt(n)\n",
        "\n",
        "\n",
        "\n"
      ],
      "metadata": {
        "id": "4CRpZwkYfEoJ"
      }
    },
    {
      "cell_type": "code",
      "source": [
        "mean = 900\n",
        "sd = 50\n",
        "n = 20\n",
        "se = sd/np.sqrt(n)\n",
        "norm.cdf(875,loc=mean,scale=se)"
      ],
      "metadata": {
        "colab": {
          "base_uri": "https://localhost:8080/"
        },
        "id": "MS8tfYY6k06y",
        "outputId": "9b614391-08b3-4b4c-9c21-92336f5076d6"
      },
      "execution_count": 11,
      "outputs": [
        {
          "output_type": "execute_result",
          "data": {
            "text/plain": [
              "0.012673659338734126"
            ]
          },
          "metadata": {},
          "execution_count": 11
        }
      ]
    },
    {
      "cell_type": "code",
      "source": [
        "mean = 28\n",
        "sd = 7\n",
        "n = 50\n",
        "norm.cdf(31,loc=mean,scale=sd/np.sqrt(n))-norm.cdf(26,loc=mean,scale=sd/np.sqrt(n))"
      ],
      "metadata": {
        "colab": {
          "base_uri": "https://localhost:8080/"
        },
        "id": "Exv3CD32lVMI",
        "outputId": "b0948d91-a962-4345-eebe-e0d308cd3e20"
      },
      "execution_count": 12,
      "outputs": [
        {
          "output_type": "execute_result",
          "data": {
            "text/plain": [
              "0.9771032071594303"
            ]
          },
          "metadata": {},
          "execution_count": 12
        }
      ]
    },
    {
      "cell_type": "code",
      "source": [
        "sample_mean=24\n",
        "n=100\n",
        "pop_sd=8\n",
        "CI= sample_mean - np.round(norm.ppf(0.95),3)*(pop_sd/np.sqrt(n)),sample_mean + np.round(norm.ppf(0.95),3)*(pop_sd/np.sqrt(n))\n",
        "CI"
      ],
      "metadata": {
        "colab": {
          "base_uri": "https://localhost:8080/"
        },
        "id": "wPUs1juXlwwk",
        "outputId": "e106ab70-3338-4774-ade0-f0d5537aec6b"
      },
      "execution_count": 21,
      "outputs": [
        {
          "output_type": "execute_result",
          "data": {
            "text/plain": [
              "(22.684, 25.316)"
            ]
          },
          "metadata": {},
          "execution_count": 21
        }
      ]
    },
    {
      "cell_type": "code",
      "source": [
        "# confidence interval through code\n",
        "norm.interval(0.95,loc=sample_mean,scale=pop_sd/np.sqrt(n))"
      ],
      "metadata": {
        "colab": {
          "base_uri": "https://localhost:8080/"
        },
        "id": "6qBegffOmrGj",
        "outputId": "0ffab85c-5c9e-475f-f849-b885494ef1e4"
      },
      "execution_count": 16,
      "outputs": [
        {
          "output_type": "execute_result",
          "data": {
            "text/plain": [
              "(22.432028812367957, 25.567971187632043)"
            ]
          },
          "metadata": {},
          "execution_count": 16
        }
      ]
    },
    {
      "cell_type": "code",
      "source": [
        "mean = 75\n",
        "sd = 10\n",
        "n = 100\n",
        "se = sd/np.sqrt(n)\n",
        "norm.interval(0.90,loc=mean,scale=se)"
      ],
      "metadata": {
        "colab": {
          "base_uri": "https://localhost:8080/"
        },
        "id": "gke4n5iCoOdY",
        "outputId": "0e03e53f-9205-436d-a683-d8a21d1f4e80"
      },
      "execution_count": 22,
      "outputs": [
        {
          "output_type": "execute_result",
          "data": {
            "text/plain": [
              "(73.35514637304853, 76.64485362695147)"
            ]
          },
          "metadata": {},
          "execution_count": 22
        }
      ]
    },
    {
      "cell_type": "code",
      "source": [
        "mean = 165\n",
        "sd = 8\n",
        "n = 100\n",
        "se = sd/np.sqrt(n)\n",
        "norm.interval(0.9,loc=mean,scale=se)"
      ],
      "metadata": {
        "colab": {
          "base_uri": "https://localhost:8080/"
        },
        "id": "F4UFkbJdpBeq",
        "outputId": "b30be30e-b6c9-4315-cd96-48e59c3a8c74"
      },
      "execution_count": 23,
      "outputs": [
        {
          "output_type": "execute_result",
          "data": {
            "text/plain": [
              "(163.68411709843883, 166.31588290156117)"
            ]
          },
          "metadata": {},
          "execution_count": 23
        }
      ]
    },
    {
      "cell_type": "markdown",
      "source": [
        "**Hypothesis testing**\n",
        "\n",
        "H0: Null Hypothesis -> supports status quo\n",
        "\n",
        "Ha: Alternate Hypothesis -> anti-status quo\n",
        "\n",
        "Example: New marketing campaign will improve the revenue\n",
        "\n",
        "H0: marketing campaign will have no effect on revenue\n",
        "\n",
        "Ha: marketing campaign will improve revenue\n",
        "\n",
        "Type 1 error (FP) : Support Ha, but H0 is true\n",
        "\n",
        "Type 2 error (FN) : Support H0, but Ha is true\n",
        "\n",
        "We start any Hypothesis-testing problem with 2 things:\n",
        "- Assumption\n",
        "- Data\n",
        "\n",
        "There exists a framework to compute a quantifiable metric (pvalue) that will help us decide if we should accept or reject our null hypothesis.\n",
        "\n",
        "\n",
        "<font color='purple'>**Let's summarise it into steps:-**</font>\n",
        "\n",
        "1. Setup Null and Alternate Hypothesis\n",
        "2. Choose the **test statistic**.\n",
        "3. Select the Left vs Right vs Two-Tailed test, as per the hypothesis\n",
        "4. Compute the P-Value\n",
        "5. Compare the P-Value to the Significance Level (α) and Fail to reject/reject the Null Hypothesis accordingly.\n",
        " - Another term closely related to Significance Level is **Confidence Level**\n",
        " - If we're using $α =0.05$, this means that 5% significance\n",
        " - This can also be said, 95% confidence"
      ],
      "metadata": {
        "id": "bJcloz0ws2Qx"
      }
    },
    {
      "cell_type": "markdown",
      "source": [
        "**what is P-value?**\n",
        "\n",
        "p-value is a measurement of how confident we are that two groups are different from each other.\n",
        "    \n",
        "p-value in most cases is 0.05, which means that 5% of the times the difference between two groups will be due to random chance, while 95% of the time there will be actual difference. hence, it also means that we will have chance of 5% false positive.\n",
        "\n",
        "But p-value only tells us that difference exist, we can't conclude on the level of difference. Meaning that difference between two groups can be small and large but that we cannnot decide from p-value.\n",
        "\n",
        "\n",
        "\n",
        "\n"
      ],
      "metadata": {
        "id": "L6w_MC8Ly0RL"
      }
    },
    {
      "cell_type": "markdown",
      "source": [
        "**One sample Z-test**\n",
        "\n",
        "A statistical test performemed to check assumptions about one numerical groups"
      ],
      "metadata": {
        "id": "Dhr0SluH0oSP"
      }
    },
    {
      "cell_type": "code",
      "source": [
        "# problem-1\n",
        "mean = 65\n",
        "sd = 2.5\n",
        "sample_mean = 64.5\n",
        "n = 20\n",
        "alpha = 0.05\n",
        "# H0 : population mean = sample-mean, No difference between heights sample and population\n",
        "# Ha : sample_mean < population mean, there exist difference between sample mean and population mean\n",
        "se = sd/np.sqrt(n)\n",
        "z = (sample_mean-mean)/se\n",
        "# p-value (left-tail test)\n",
        "p = norm.cdf(z)\n",
        "if p > alpha :\n",
        "    print(\"Fail to reject H0\")\n",
        "else :\n",
        "    print(\"reject H0\")\n",
        ""
      ],
      "metadata": {
        "colab": {
          "base_uri": "https://localhost:8080/"
        },
        "id": "z6ENP7uB0son",
        "outputId": "43785941-64a5-492a-f612-f799a63fddae"
      },
      "execution_count": 26,
      "outputs": [
        {
          "output_type": "stream",
          "name": "stdout",
          "text": [
            "Fail to reject H0\n"
          ]
        }
      ]
    },
    {
      "cell_type": "code",
      "source": [
        "# problem-2\n",
        "# step-1\n",
        "mean = 150\n",
        "sd = 8.5\n",
        "n = 10\n",
        "sample_mean = 155\n",
        "se = sd/np.sqrt(n)\n",
        "# step-2 (setting up H0 and Ha)\n",
        "# H0: students are not better, sample_mean = mean\n",
        "# Ha: students are better, sample_mean > mean\n",
        "\n",
        "# step-3 choosing test-statistic, we are choosing Z-statistic\n",
        "# step-4(choose type of test) right tailed test\n",
        "\n",
        "z=(sample_mean-mean)/se\n",
        "# p-value\n",
        "p= 1 - norm.cdf(z)\n",
        "if p > alpha :\n",
        "    print(\"Fail to reject H0\")\n",
        "else :\n",
        "    print(\"reject H0\")\n",
        "p"
      ],
      "metadata": {
        "colab": {
          "base_uri": "https://localhost:8080/"
        },
        "id": "AHMAMwKV-bVH",
        "outputId": "d72413bd-e59a-486f-f9cd-d8e88653d5d4"
      },
      "execution_count": 28,
      "outputs": [
        {
          "output_type": "stream",
          "name": "stdout",
          "text": [
            "reject H0\n"
          ]
        },
        {
          "output_type": "execute_result",
          "data": {
            "text/plain": [
              "0.031431210741779014"
            ]
          },
          "metadata": {},
          "execution_count": 28
        }
      ]
    },
    {
      "cell_type": "code",
      "source": [
        "# problem 5\n",
        "z=1.28\n",
        "mean = 3.5\n",
        "sd = 0.7\n",
        "n=45\n",
        "se = sd/np.sqrt(n)\n",
        "\n",
        "sample_mean = mean + z*se"
      ],
      "metadata": {
        "id": "Sj_QWAxfBZDa"
      },
      "execution_count": 29,
      "outputs": []
    },
    {
      "cell_type": "code",
      "source": [
        "sample_mean"
      ],
      "metadata": {
        "colab": {
          "base_uri": "https://localhost:8080/"
        },
        "id": "WVmB_1LlCBY3",
        "outputId": "a105c3eb-b863-4694-fbc4-d8e9d041598b"
      },
      "execution_count": 30,
      "outputs": [
        {
          "output_type": "execute_result",
          "data": {
            "text/plain": [
              "3.6335677938559874"
            ]
          },
          "metadata": {},
          "execution_count": 30
        }
      ]
    },
    {
      "cell_type": "markdown",
      "source": [
        "**T-test**\n",
        "\n",
        "A statistical test used to compare means of two numerical groups (numerical and categorical can also be used for ttest), also we use t-test when we don't know population standard deviation\n",
        "\n",
        "3 types of test:\n",
        "1. ttest using one sample\n",
        "2. ttest using two sample\n",
        "3. paired ttest"
      ],
      "metadata": {
        "id": "D23eDKyLCdm9"
      }
    },
    {
      "cell_type": "code",
      "source": [
        "# problem-1\n",
        "from scipy.stats import ttest_1samp, ttest_ind, ttest_rel\n",
        "pop_mean = 12\n",
        "sample = np.array([14.3,12.6,13.7,10.9,13.7,12.0,11.4,12.0,12.6,13.1])\n",
        "\n",
        "# H0: sample_mean = pop_mean\n",
        "# Ha: sample_mean > pop_mean\n",
        "\n",
        "t,p = ttest_1samp(sample,pop_mean, alternative='greater')\n",
        "alpha = 0.05\n",
        "\n",
        "if p < alpha:\n",
        "    print(\"Reject H0\")\n",
        "else:\n",
        "    print(\"Fail to reject H0\")\n",
        "p"
      ],
      "metadata": {
        "colab": {
          "base_uri": "https://localhost:8080/"
        },
        "id": "HAcXW_VbDUCF",
        "outputId": "a8dd4b20-db09-4015-aa81-6af6bc6c7e1f"
      },
      "execution_count": 35,
      "outputs": [
        {
          "output_type": "stream",
          "name": "stdout",
          "text": [
            "Reject H0\n"
          ]
        },
        {
          "output_type": "execute_result",
          "data": {
            "text/plain": [
              "0.04979938002326665"
            ]
          },
          "metadata": {},
          "execution_count": 35
        }
      ]
    },
    {
      "cell_type": "code",
      "source": [
        "# problem-2\n",
        "pop_mean = 175.3\n",
        "sample = np.array([177.3, 182.7, 169.6, 176.3, 180.3, 179.4, 178.5, 177.2, 181.8, 176.5])\n",
        "\n",
        "# H0: sample_mean = pop_mean\n",
        "# Ha: sample_mean <> pop_mean\n",
        "\n",
        "t,p = ttest_1samp(sample,pop_mean)\n",
        "alpha = 0.05\n",
        "\n",
        "if p < alpha:\n",
        "    print(\"Reject H0\")\n",
        "else:\n",
        "    print(\"Fail to reject H0\")\n",
        "p"
      ],
      "metadata": {
        "colab": {
          "base_uri": "https://localhost:8080/"
        },
        "id": "Yuznu9VjCX2-",
        "outputId": "b0951fe0-55ae-4c26-d972-3fe683dd2e36"
      },
      "execution_count": 36,
      "outputs": [
        {
          "output_type": "stream",
          "name": "stdout",
          "text": [
            "Reject H0\n"
          ]
        },
        {
          "output_type": "execute_result",
          "data": {
            "text/plain": [
              "0.04734137339747034"
            ]
          },
          "metadata": {},
          "execution_count": 36
        }
      ]
    },
    {
      "cell_type": "code",
      "source": [
        "# problem-3\n",
        "pop_mean = 20\n",
        "sample = np.array([21.5, 24.5, 18.5, 17.2, 14.5, 23.2, 22.1, 20.5, 19.4, 18.1, 24.1, 18.5])\n",
        "\n",
        "# H0: sample_mean = pop_mean\n",
        "# Ha: sample_mean > pop_mean\n",
        "\n",
        "t,p = ttest_1samp(sample,pop_mean, alternative='greater')\n",
        "alpha = 0.05\n",
        "\n",
        "if p < alpha:\n",
        "    print(\"Reject H0\")\n",
        "else:\n",
        "    print(\"Fail to reject H0\")\n",
        "p"
      ],
      "metadata": {
        "colab": {
          "base_uri": "https://localhost:8080/"
        },
        "id": "bXZfDa_mLusk",
        "outputId": "14ca2766-d30f-4139-dd81-fad0ed1b7989"
      },
      "execution_count": 37,
      "outputs": [
        {
          "output_type": "stream",
          "name": "stdout",
          "text": [
            "Fail to reject H0\n"
          ]
        },
        {
          "output_type": "execute_result",
          "data": {
            "text/plain": [
              "0.4223145946526807"
            ]
          },
          "metadata": {},
          "execution_count": 37
        }
      ]
    },
    {
      "cell_type": "code",
      "source": [
        "# problem-4\n",
        "men = np.array([13.3, 6.0, 20.0, 8.0, 14.0, 19.0, 18.0, 25.0, 16.0, 24.0, 15.0, 1.0, 15.0])\n",
        "women = np.array([22.0, 16.0, 21.7, 21.0, 30.0, 26.0, 12.0, 23.2, 28.0, 23.0])\n",
        "\n",
        "# H0: sample_mean = pop_mean\n",
        "# Ha: sample_mean <> pop_mean\n",
        "\n",
        "t,p = ttest_ind(men,women)\n",
        "alpha = 0.05\n",
        "\n",
        "if p < alpha:\n",
        "    print(\"Reject H0\")\n",
        "else:\n",
        "    print(\"Fail to reject H0\")\n",
        "p"
      ],
      "metadata": {
        "colab": {
          "base_uri": "https://localhost:8080/"
        },
        "id": "aUlwD0dWMokm",
        "outputId": "040642a1-3c4d-4046-9c3a-898244f77597"
      },
      "execution_count": 38,
      "outputs": [
        {
          "output_type": "stream",
          "name": "stdout",
          "text": [
            "Reject H0\n"
          ]
        },
        {
          "output_type": "execute_result",
          "data": {
            "text/plain": [
              "0.010730607904197957"
            ]
          },
          "metadata": {},
          "execution_count": 38
        }
      ]
    },
    {
      "cell_type": "code",
      "source": [
        "# problem-4\n",
        "s1 = np.array([115, 111, 112, 101, 95, 98, 100, 90, 89, 108])\n",
        "s2 = np.array([107, 103, 91, 99, 104, 98, 117, 113, 92, 96, 108, 115, 116, 88])\n",
        "\n",
        "# H0: sample_mean = pop_mean\n",
        "# Ha: sample_mean <> pop_mean\n",
        "\n",
        "t,p = ttest_ind(s1,s2)\n",
        "alpha = 0.05\n",
        "\n",
        "if p < alpha:\n",
        "    print(\"Reject H0\")\n",
        "else:\n",
        "    print(\"Fail to reject H0\")\n",
        "p"
      ],
      "metadata": {
        "colab": {
          "base_uri": "https://localhost:8080/"
        },
        "id": "28dUKXzWNZn1",
        "outputId": "45ddd211-ad7e-4311-e71e-5af181a87767"
      },
      "execution_count": 39,
      "outputs": [
        {
          "output_type": "stream",
          "name": "stdout",
          "text": [
            "Fail to reject H0\n"
          ]
        },
        {
          "output_type": "execute_result",
          "data": {
            "text/plain": [
              "0.7154458095186707"
            ]
          },
          "metadata": {},
          "execution_count": 39
        }
      ]
    }
  ]
}