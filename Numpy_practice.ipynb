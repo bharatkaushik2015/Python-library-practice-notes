{
  "nbformat": 4,
  "nbformat_minor": 0,
  "metadata": {
    "colab": {
      "provenance": [],
      "authorship_tag": "ABX9TyMoefw06g80XnkDWdJ0Qneu",
      "include_colab_link": true
    },
    "kernelspec": {
      "name": "python3",
      "display_name": "Python 3"
    },
    "language_info": {
      "name": "python"
    }
  },
  "cells": [
    {
      "cell_type": "markdown",
      "metadata": {
        "id": "view-in-github",
        "colab_type": "text"
      },
      "source": [
        "<a href=\"https://colab.research.google.com/github/bharatkaushik2015/Python-library-practice-notes/blob/main/Numpy_practice.ipynb\" target=\"_parent\"><img src=\"https://colab.research.google.com/assets/colab-badge.svg\" alt=\"Open In Colab\"/></a>"
      ]
    },
    {
      "cell_type": "markdown",
      "source": [
        "**NUMPY**\n",
        "<br>\n",
        "1. n-dimensional array or ndarrays\n",
        "<br>\n",
        "2. each data element is of fixed size and same data type"
      ],
      "metadata": {
        "id": "Qw17oi8up6oU"
      }
    },
    {
      "cell_type": "code",
      "source": [
        "# creating 1-D list\n",
        "import numpy as np\n",
        "lst=[1,2,3,5,10]\n",
        "arr=np.array(lst)\n",
        "arr"
      ],
      "metadata": {
        "id": "Wdx-39GEqyBB",
        "colab": {
          "base_uri": "https://localhost:8080/"
        },
        "outputId": "f7d441d9-74c3-4279-a878-a6dcd85871c1"
      },
      "execution_count": 1,
      "outputs": [
        {
          "output_type": "execute_result",
          "data": {
            "text/plain": [
              "array([ 1,  2,  3,  5, 10])"
            ]
          },
          "metadata": {},
          "execution_count": 1
        }
      ]
    },
    {
      "cell_type": "code",
      "source": [
        "type(arr)"
      ],
      "metadata": {
        "colab": {
          "base_uri": "https://localhost:8080/"
        },
        "id": "IVm00b291Adw",
        "outputId": "146e2212-b21a-4440-ec15-99b65e95865a"
      },
      "execution_count": 2,
      "outputs": [
        {
          "output_type": "execute_result",
          "data": {
            "text/plain": [
              "numpy.ndarray"
            ]
          },
          "metadata": {},
          "execution_count": 2
        }
      ]
    },
    {
      "cell_type": "code",
      "source": [
        "# creating 2-D list\n",
        "lst1=[[1,2,3],[4,5,6]]\n",
        "arr_2d=np.array(lst1)\n",
        "arr_2d\n"
      ],
      "metadata": {
        "colab": {
          "base_uri": "https://localhost:8080/"
        },
        "id": "rX_55Yxp1P9P",
        "outputId": "6bf8e544-6ede-422c-d6e7-0d71de5840be"
      },
      "execution_count": 3,
      "outputs": [
        {
          "output_type": "execute_result",
          "data": {
            "text/plain": [
              "array([[1, 2, 3],\n",
              "       [4, 5, 6]])"
            ]
          },
          "metadata": {},
          "execution_count": 3
        }
      ]
    },
    {
      "cell_type": "code",
      "source": [
        "type(arr_2d)"
      ],
      "metadata": {
        "colab": {
          "base_uri": "https://localhost:8080/"
        },
        "id": "guSn7o7M1sGR",
        "outputId": "eb86b31a-81c8-488c-c048-feb613df9387"
      },
      "execution_count": 4,
      "outputs": [
        {
          "output_type": "execute_result",
          "data": {
            "text/plain": [
              "numpy.ndarray"
            ]
          },
          "metadata": {},
          "execution_count": 4
        }
      ]
    },
    {
      "cell_type": "markdown",
      "source": [
        "**ndarray Attributes**\n",
        "\n",
        "1. ndim : Returns number of dimensions.\n",
        "\n",
        "2. shape: Returns Shape in tuple.\n",
        "\n",
        "3. size : Total number of elements.\n",
        "\n",
        "4. dtype : Type of each element.\n",
        "\n",
        "5. itemsize : Size of each element in Bytes.\n",
        "\n",
        "6. nbytes : Total bytes consumed by all elements.\n",
        "\n",
        "\n",
        "\n",
        "\n",
        "\n"
      ],
      "metadata": {
        "id": "xOmxGQWA2DCY"
      }
    },
    {
      "cell_type": "code",
      "source": [
        "arr.ndim # returns number of dimensions"
      ],
      "metadata": {
        "colab": {
          "base_uri": "https://localhost:8080/"
        },
        "id": "X85A9Ymv19o2",
        "outputId": "15188e19-1671-4aa2-aeba-d5ac66e8c502"
      },
      "execution_count": 5,
      "outputs": [
        {
          "output_type": "execute_result",
          "data": {
            "text/plain": [
              "1"
            ]
          },
          "metadata": {},
          "execution_count": 5
        }
      ]
    },
    {
      "cell_type": "code",
      "source": [
        "arr_2d.ndim"
      ],
      "metadata": {
        "colab": {
          "base_uri": "https://localhost:8080/"
        },
        "id": "YrooEs2G2m4B",
        "outputId": "d3000e68-7670-489a-9971-8b1d31cf6a92"
      },
      "execution_count": 6,
      "outputs": [
        {
          "output_type": "execute_result",
          "data": {
            "text/plain": [
              "2"
            ]
          },
          "metadata": {},
          "execution_count": 6
        }
      ]
    },
    {
      "cell_type": "code",
      "source": [
        "arr.shape # shape in tuples"
      ],
      "metadata": {
        "colab": {
          "base_uri": "https://localhost:8080/"
        },
        "id": "9_cSLw7-2r83",
        "outputId": "04087116-7a6d-435a-e6fb-f8f52f6c88aa"
      },
      "execution_count": 7,
      "outputs": [
        {
          "output_type": "execute_result",
          "data": {
            "text/plain": [
              "(5,)"
            ]
          },
          "metadata": {},
          "execution_count": 7
        }
      ]
    },
    {
      "cell_type": "code",
      "source": [
        "arr_2d.shape"
      ],
      "metadata": {
        "colab": {
          "base_uri": "https://localhost:8080/"
        },
        "id": "jt6-rz5j2yAP",
        "outputId": "f9bf532f-4bf3-4f6d-d694-eda876943811"
      },
      "execution_count": 8,
      "outputs": [
        {
          "output_type": "execute_result",
          "data": {
            "text/plain": [
              "(2, 3)"
            ]
          },
          "metadata": {},
          "execution_count": 8
        }
      ]
    },
    {
      "cell_type": "code",
      "source": [
        "arr.size # total number of elements"
      ],
      "metadata": {
        "colab": {
          "base_uri": "https://localhost:8080/"
        },
        "id": "HCbMckt430cy",
        "outputId": "e5b673c3-7c89-450e-d0fa-ad83f2a27848"
      },
      "execution_count": 9,
      "outputs": [
        {
          "output_type": "execute_result",
          "data": {
            "text/plain": [
              "5"
            ]
          },
          "metadata": {},
          "execution_count": 9
        }
      ]
    },
    {
      "cell_type": "code",
      "source": [
        "arr_2d.size"
      ],
      "metadata": {
        "colab": {
          "base_uri": "https://localhost:8080/"
        },
        "id": "M78eahy6345p",
        "outputId": "44642f4d-5987-476d-e7a7-b3381c4eb616"
      },
      "execution_count": 10,
      "outputs": [
        {
          "output_type": "execute_result",
          "data": {
            "text/plain": [
              "6"
            ]
          },
          "metadata": {},
          "execution_count": 10
        }
      ]
    },
    {
      "cell_type": "code",
      "source": [
        "arr.dtype # type of each elements"
      ],
      "metadata": {
        "colab": {
          "base_uri": "https://localhost:8080/"
        },
        "id": "j9gIrFWz37xv",
        "outputId": "9b6b1773-d340-436c-e84e-26737c908b41"
      },
      "execution_count": 11,
      "outputs": [
        {
          "output_type": "execute_result",
          "data": {
            "text/plain": [
              "dtype('int64')"
            ]
          },
          "metadata": {},
          "execution_count": 11
        }
      ]
    },
    {
      "cell_type": "code",
      "source": [
        "arr_2d.dtype"
      ],
      "metadata": {
        "colab": {
          "base_uri": "https://localhost:8080/"
        },
        "id": "oDUcb16I3_wI",
        "outputId": "d1e72d30-a99d-4e86-8aaf-ad1956e8e7d7"
      },
      "execution_count": 12,
      "outputs": [
        {
          "output_type": "execute_result",
          "data": {
            "text/plain": [
              "dtype('int64')"
            ]
          },
          "metadata": {},
          "execution_count": 12
        }
      ]
    },
    {
      "cell_type": "code",
      "source": [
        "arr.itemsize #size of each elements in bytes"
      ],
      "metadata": {
        "colab": {
          "base_uri": "https://localhost:8080/"
        },
        "id": "E0yJbjUj4DnA",
        "outputId": "a5ed0b53-5a5c-4ddf-f0cb-1c5599cdd34d"
      },
      "execution_count": 13,
      "outputs": [
        {
          "output_type": "execute_result",
          "data": {
            "text/plain": [
              "8"
            ]
          },
          "metadata": {},
          "execution_count": 13
        }
      ]
    },
    {
      "cell_type": "code",
      "source": [
        "arr_2d.itemsize"
      ],
      "metadata": {
        "colab": {
          "base_uri": "https://localhost:8080/"
        },
        "id": "xk873rrr4K8w",
        "outputId": "a696faa8-e2cc-4eab-9db2-24f68f585f7a"
      },
      "execution_count": 14,
      "outputs": [
        {
          "output_type": "execute_result",
          "data": {
            "text/plain": [
              "8"
            ]
          },
          "metadata": {},
          "execution_count": 14
        }
      ]
    },
    {
      "cell_type": "code",
      "source": [
        "arr.nbytes # Total bytes consumed by all elements"
      ],
      "metadata": {
        "colab": {
          "base_uri": "https://localhost:8080/"
        },
        "id": "x_feJagv4X-g",
        "outputId": "25bb1913-8f63-42be-f8a5-3c1074d76298"
      },
      "execution_count": 15,
      "outputs": [
        {
          "output_type": "execute_result",
          "data": {
            "text/plain": [
              "40"
            ]
          },
          "metadata": {},
          "execution_count": 15
        }
      ]
    },
    {
      "cell_type": "code",
      "source": [
        "arr_2d.nbytes"
      ],
      "metadata": {
        "colab": {
          "base_uri": "https://localhost:8080/"
        },
        "id": "sA_d2_ku4bVy",
        "outputId": "1eff1110-04f6-44ab-b762-00477ca7dc19"
      },
      "execution_count": 16,
      "outputs": [
        {
          "output_type": "execute_result",
          "data": {
            "text/plain": [
              "48"
            ]
          },
          "metadata": {},
          "execution_count": 16
        }
      ]
    },
    {
      "cell_type": "code",
      "source": [
        "y=np.array([[2,4,6],[6,7,8]], dtype=\"float64\")\n",
        "y.dtype"
      ],
      "metadata": {
        "colab": {
          "base_uri": "https://localhost:8080/"
        },
        "id": "BRuxRDmn5J-o",
        "outputId": "5b7c7c97-c9d8-4a56-c70b-7e91e701e83c"
      },
      "execution_count": 17,
      "outputs": [
        {
          "output_type": "execute_result",
          "data": {
            "text/plain": [
              "dtype('float64')"
            ]
          },
          "metadata": {},
          "execution_count": 17
        }
      ]
    },
    {
      "cell_type": "markdown",
      "source": [
        "**Numpy array creation**\n",
        "1. From Python built-in datatypes : lists or tuples\n",
        "\n",
        "2. Using Numpy array creation methods like ones, ones_like, zeros, zeros_like\n",
        "\n",
        "3. Using Numpy numeric sequence generators.\n",
        "\n",
        "4. Using Numpy random module.\n",
        "\n",
        "5. By reading data from a file."
      ],
      "metadata": {
        "id": "Wt-6AgsXWS17"
      }
    },
    {
      "cell_type": "code",
      "source": [
        "a=[i for i in range(10) if i%2!=0]\n",
        "a"
      ],
      "metadata": {
        "colab": {
          "base_uri": "https://localhost:8080/"
        },
        "id": "spXWeYa3WiGU",
        "outputId": "9edf9374-4443-449c-d75f-ce2816b88429"
      },
      "execution_count": 18,
      "outputs": [
        {
          "output_type": "execute_result",
          "data": {
            "text/plain": [
              "[1, 3, 5, 7, 9]"
            ]
          },
          "metadata": {},
          "execution_count": 18
        }
      ]
    },
    {
      "cell_type": "code",
      "source": [
        "ar=np.array(a) # created array using list\n",
        "ar"
      ],
      "metadata": {
        "colab": {
          "base_uri": "https://localhost:8080/"
        },
        "id": "3JwyAKUbW9Ok",
        "outputId": "b70dae7c-8491-4fc3-d319-d0dce9e7d504"
      },
      "execution_count": 19,
      "outputs": [
        {
          "output_type": "execute_result",
          "data": {
            "text/plain": [
              "array([1, 3, 5, 7, 9])"
            ]
          },
          "metadata": {},
          "execution_count": 19
        }
      ]
    },
    {
      "cell_type": "code",
      "source": [
        "b=(1,2,3)\n",
        "br=np.array(b) # created array using tuple\n",
        "br"
      ],
      "metadata": {
        "colab": {
          "base_uri": "https://localhost:8080/"
        },
        "id": "p6q39V_mXE0F",
        "outputId": "107d065b-b44e-4086-b3a4-aeac5e516d38"
      },
      "execution_count": 20,
      "outputs": [
        {
          "output_type": "execute_result",
          "data": {
            "text/plain": [
              "array([1, 2, 3])"
            ]
          },
          "metadata": {},
          "execution_count": 20
        }
      ]
    },
    {
      "cell_type": "code",
      "source": [
        "np.empty([4,4]) # creates empty array with random values"
      ],
      "metadata": {
        "colab": {
          "base_uri": "https://localhost:8080/"
        },
        "id": "bPw-9B5KXdyS",
        "outputId": "00b2203b-9778-4db8-8f1e-801e1fded020"
      },
      "execution_count": 21,
      "outputs": [
        {
          "output_type": "execute_result",
          "data": {
            "text/plain": [
              "array([[4.84254362e-310, 0.00000000e+000, 0.00000000e+000,\n",
              "        0.00000000e+000],\n",
              "       [0.00000000e+000, 0.00000000e+000, 0.00000000e+000,\n",
              "        0.00000000e+000],\n",
              "       [0.00000000e+000, 0.00000000e+000, 0.00000000e+000,\n",
              "        0.00000000e+000],\n",
              "       [0.00000000e+000, 0.00000000e+000, 0.00000000e+000,\n",
              "        0.00000000e+000]])"
            ]
          },
          "metadata": {},
          "execution_count": 21
        }
      ]
    },
    {
      "cell_type": "code",
      "source": [
        "np.empty_like(arr)"
      ],
      "metadata": {
        "colab": {
          "base_uri": "https://localhost:8080/"
        },
        "id": "k_tkeVkH3oCK",
        "outputId": "849afc7d-4095-4f24-c2de-856130c4c3bb"
      },
      "execution_count": 22,
      "outputs": [
        {
          "output_type": "execute_result",
          "data": {
            "text/plain": [
              "array([98014175423808,              0,              0,              0,\n",
              "                   48])"
            ]
          },
          "metadata": {},
          "execution_count": 22
        }
      ]
    },
    {
      "cell_type": "code",
      "source": [
        "np.eye(2) # identity matrix (2x2)"
      ],
      "metadata": {
        "colab": {
          "base_uri": "https://localhost:8080/"
        },
        "id": "Nl8hJ3MF34ip",
        "outputId": "66307bbc-b03c-4dcd-803f-0c511efce31c"
      },
      "execution_count": 23,
      "outputs": [
        {
          "output_type": "execute_result",
          "data": {
            "text/plain": [
              "array([[1., 0.],\n",
              "       [0., 1.]])"
            ]
          },
          "metadata": {},
          "execution_count": 23
        }
      ]
    },
    {
      "cell_type": "code",
      "source": [
        "np.eye(3,k=1) # identity matrix (3x3) -- k argument shits the ones above and below with negative values"
      ],
      "metadata": {
        "colab": {
          "base_uri": "https://localhost:8080/"
        },
        "id": "jNcHeUoM4MZ_",
        "outputId": "f6b5b7ff-6f7f-449a-b30f-b9ce4aa5f70d"
      },
      "execution_count": 24,
      "outputs": [
        {
          "output_type": "execute_result",
          "data": {
            "text/plain": [
              "array([[0., 1., 0.],\n",
              "       [0., 0., 1.],\n",
              "       [0., 0., 0.]])"
            ]
          },
          "metadata": {},
          "execution_count": 24
        }
      ]
    },
    {
      "cell_type": "code",
      "source": [
        "np.identity(3) # identity matrix (3x3) -- only middle diagonal"
      ],
      "metadata": {
        "colab": {
          "base_uri": "https://localhost:8080/"
        },
        "id": "nZnT4aja4cBR",
        "outputId": "1f00a38d-297d-4a74-ecc3-bce36d9939e6"
      },
      "execution_count": 25,
      "outputs": [
        {
          "output_type": "execute_result",
          "data": {
            "text/plain": [
              "array([[1., 0., 0.],\n",
              "       [0., 1., 0.],\n",
              "       [0., 0., 1.]])"
            ]
          },
          "metadata": {},
          "execution_count": 25
        }
      ]
    },
    {
      "cell_type": "code",
      "source": [
        "np.ones(5) # create arrays with ones default datatpe float64"
      ],
      "metadata": {
        "colab": {
          "base_uri": "https://localhost:8080/"
        },
        "id": "3w40zt8C5Oz7",
        "outputId": "84901940-2b18-4a3b-c298-d31f16ef69fb"
      },
      "execution_count": 26,
      "outputs": [
        {
          "output_type": "execute_result",
          "data": {
            "text/plain": [
              "array([1., 1., 1., 1., 1.])"
            ]
          },
          "metadata": {},
          "execution_count": 26
        }
      ]
    },
    {
      "cell_type": "code",
      "source": [
        "np.ones((5,1), dtype=\"int64\")"
      ],
      "metadata": {
        "colab": {
          "base_uri": "https://localhost:8080/"
        },
        "id": "AYPvsnRx5aZz",
        "outputId": "3f79e656-221d-49ed-f11e-2a1ffa97522a"
      },
      "execution_count": 27,
      "outputs": [
        {
          "output_type": "execute_result",
          "data": {
            "text/plain": [
              "array([[1],\n",
              "       [1],\n",
              "       [1],\n",
              "       [1],\n",
              "       [1]])"
            ]
          },
          "metadata": {},
          "execution_count": 27
        }
      ]
    },
    {
      "cell_type": "code",
      "source": [
        "np.ones_like(arr_2d)"
      ],
      "metadata": {
        "colab": {
          "base_uri": "https://localhost:8080/"
        },
        "id": "Ih5SGtru5rMi",
        "outputId": "939fbdcf-621c-48bd-8099-cac6863d1ebe"
      },
      "execution_count": 28,
      "outputs": [
        {
          "output_type": "execute_result",
          "data": {
            "text/plain": [
              "array([[1, 1, 1],\n",
              "       [1, 1, 1]])"
            ]
          },
          "metadata": {},
          "execution_count": 28
        }
      ]
    },
    {
      "cell_type": "code",
      "source": [
        "np.zeros((3,3)) # create arrays with zeros"
      ],
      "metadata": {
        "colab": {
          "base_uri": "https://localhost:8080/"
        },
        "id": "yJ-O8SAI5wIx",
        "outputId": "f555df8d-1ec8-460b-d4bf-361d02adb776"
      },
      "execution_count": 29,
      "outputs": [
        {
          "output_type": "execute_result",
          "data": {
            "text/plain": [
              "array([[0., 0., 0.],\n",
              "       [0., 0., 0.],\n",
              "       [0., 0., 0.]])"
            ]
          },
          "metadata": {},
          "execution_count": 29
        }
      ]
    },
    {
      "cell_type": "code",
      "source": [
        "np.zeros_like(arr)"
      ],
      "metadata": {
        "colab": {
          "base_uri": "https://localhost:8080/"
        },
        "id": "Q8S-d2I-56m6",
        "outputId": "93505f4f-6840-4e07-abc7-76e0cf8b04d0"
      },
      "execution_count": 30,
      "outputs": [
        {
          "output_type": "execute_result",
          "data": {
            "text/plain": [
              "array([0, 0, 0, 0, 0])"
            ]
          },
          "metadata": {},
          "execution_count": 30
        }
      ]
    },
    {
      "cell_type": "code",
      "source": [
        "np.full(shape=(2,3),fill_value=10) # gives an array with filled value"
      ],
      "metadata": {
        "colab": {
          "base_uri": "https://localhost:8080/"
        },
        "id": "LMAeVNL26EQL",
        "outputId": "a94ad726-69ef-407b-bd56-97f7a54e5820"
      },
      "execution_count": 31,
      "outputs": [
        {
          "output_type": "execute_result",
          "data": {
            "text/plain": [
              "array([[10, 10, 10],\n",
              "       [10, 10, 10]])"
            ]
          },
          "metadata": {},
          "execution_count": 31
        }
      ]
    },
    {
      "cell_type": "code",
      "source": [
        "# Numeric sequence generator\n"
      ],
      "metadata": {
        "id": "vHSckAHG7L-I"
      },
      "execution_count": 32,
      "outputs": []
    },
    {
      "cell_type": "code",
      "source": [
        "np.arange(10) # return evenly spaced array"
      ],
      "metadata": {
        "colab": {
          "base_uri": "https://localhost:8080/"
        },
        "id": "aH0aHOik7iLj",
        "outputId": "eafa6b54-b37f-446f-fbe2-cf433c48772e"
      },
      "execution_count": 33,
      "outputs": [
        {
          "output_type": "execute_result",
          "data": {
            "text/plain": [
              "array([0, 1, 2, 3, 4, 5, 6, 7, 8, 9])"
            ]
          },
          "metadata": {},
          "execution_count": 33
        }
      ]
    },
    {
      "cell_type": "code",
      "source": [
        "np.arange(2,10)"
      ],
      "metadata": {
        "colab": {
          "base_uri": "https://localhost:8080/"
        },
        "id": "__9A8w1R744b",
        "outputId": "c9279f77-9ec0-464c-b056-19dffa816f29"
      },
      "execution_count": 34,
      "outputs": [
        {
          "output_type": "execute_result",
          "data": {
            "text/plain": [
              "array([2, 3, 4, 5, 6, 7, 8, 9])"
            ]
          },
          "metadata": {},
          "execution_count": 34
        }
      ]
    },
    {
      "cell_type": "code",
      "source": [
        "np.arange(2,10,0.9) # main difference from regaular range function is that it supports float values in steps"
      ],
      "metadata": {
        "colab": {
          "base_uri": "https://localhost:8080/"
        },
        "id": "OxK5TFuT781J",
        "outputId": "d4de12a2-64f8-4375-cc1c-1e4a4076bb97"
      },
      "execution_count": 35,
      "outputs": [
        {
          "output_type": "execute_result",
          "data": {
            "text/plain": [
              "array([2. , 2.9, 3.8, 4.7, 5.6, 6.5, 7.4, 8.3, 9.2])"
            ]
          },
          "metadata": {},
          "execution_count": 35
        }
      ]
    },
    {
      "cell_type": "code",
      "source": [
        "np.linspace(2,10, num=20) # syntax [start,stop] evenly spaced array"
      ],
      "metadata": {
        "colab": {
          "base_uri": "https://localhost:8080/"
        },
        "id": "HUKiTFJ38Rby",
        "outputId": "e056d758-c366-4af7-de04-d0bc4887fcc6"
      },
      "execution_count": 36,
      "outputs": [
        {
          "output_type": "execute_result",
          "data": {
            "text/plain": [
              "array([ 2.        ,  2.42105263,  2.84210526,  3.26315789,  3.68421053,\n",
              "        4.10526316,  4.52631579,  4.94736842,  5.36842105,  5.78947368,\n",
              "        6.21052632,  6.63157895,  7.05263158,  7.47368421,  7.89473684,\n",
              "        8.31578947,  8.73684211,  9.15789474,  9.57894737, 10.        ])"
            ]
          },
          "metadata": {},
          "execution_count": 36
        }
      ]
    },
    {
      "cell_type": "code",
      "source": [
        "np.linspace(2,10, num=20, endpoint=False) # endpoint excluded in arange it's excluded by default"
      ],
      "metadata": {
        "colab": {
          "base_uri": "https://localhost:8080/"
        },
        "id": "tv8NqtO987Qc",
        "outputId": "c7e04aa6-42a5-4afa-aaa7-74af8f9686c7"
      },
      "execution_count": 37,
      "outputs": [
        {
          "output_type": "execute_result",
          "data": {
            "text/plain": [
              "array([2. , 2.4, 2.8, 3.2, 3.6, 4. , 4.4, 4.8, 5.2, 5.6, 6. , 6.4, 6.8,\n",
              "       7.2, 7.6, 8. , 8.4, 8.8, 9.2, 9.6])"
            ]
          },
          "metadata": {},
          "execution_count": 37
        }
      ]
    },
    {
      "cell_type": "code",
      "source": [
        "# Random numbers generator"
      ],
      "metadata": {
        "id": "Ex9uEffR9UgT"
      },
      "execution_count": 38,
      "outputs": []
    },
    {
      "cell_type": "code",
      "source": [
        "np.random.seed(42)\n",
        "np.random.rand(10) # 10 random numbers between 0 and 1"
      ],
      "metadata": {
        "colab": {
          "base_uri": "https://localhost:8080/"
        },
        "id": "cW4rlaO-9v5g",
        "outputId": "1e5c577c-2065-4b4e-84b8-e8a0bab91cd5"
      },
      "execution_count": 39,
      "outputs": [
        {
          "output_type": "execute_result",
          "data": {
            "text/plain": [
              "array([0.37454012, 0.95071431, 0.73199394, 0.59865848, 0.15601864,\n",
              "       0.15599452, 0.05808361, 0.86617615, 0.60111501, 0.70807258])"
            ]
          },
          "metadata": {},
          "execution_count": 39
        }
      ]
    },
    {
      "cell_type": "code",
      "source": [
        "def random_generator():\n",
        "    np.random.seed(42)\n",
        "    cr=np.random.rand(5)\n",
        "    return cr\n",
        "\n",
        "random_generator()"
      ],
      "metadata": {
        "colab": {
          "base_uri": "https://localhost:8080/"
        },
        "id": "KHzhwP8L-kkj",
        "outputId": "99e56997-8667-4334-b2a6-76fe66efc631"
      },
      "execution_count": 40,
      "outputs": [
        {
          "output_type": "execute_result",
          "data": {
            "text/plain": [
              "array([0.37454012, 0.95071431, 0.73199394, 0.59865848, 0.15601864])"
            ]
          },
          "metadata": {},
          "execution_count": 40
        }
      ]
    },
    {
      "cell_type": "code",
      "source": [
        "random_generator() # shows that seed value helps in regenerating same values everytime"
      ],
      "metadata": {
        "colab": {
          "base_uri": "https://localhost:8080/"
        },
        "id": "wFbz_fKc_Po7",
        "outputId": "80f7e4ed-2966-4617-96f7-03e56350ff57"
      },
      "execution_count": 41,
      "outputs": [
        {
          "output_type": "execute_result",
          "data": {
            "text/plain": [
              "array([0.37454012, 0.95071431, 0.73199394, 0.59865848, 0.15601864])"
            ]
          },
          "metadata": {},
          "execution_count": 41
        }
      ]
    },
    {
      "cell_type": "code",
      "source": [
        "np.random.randint(10,100,10) # 10 random integers between 10 and 100"
      ],
      "metadata": {
        "colab": {
          "base_uri": "https://localhost:8080/"
        },
        "id": "urw0v-xZ_Zxs",
        "outputId": "3004e1eb-f05a-4c71-f407-5701c6c2bef6"
      },
      "execution_count": 42,
      "outputs": [
        {
          "output_type": "execute_result",
          "data": {
            "text/plain": [
              "array([92, 96, 84, 84, 97, 33, 12, 31, 62, 11])"
            ]
          },
          "metadata": {},
          "execution_count": 42
        }
      ]
    },
    {
      "cell_type": "markdown",
      "source": [
        "randn is used to simulate random normal distribution"
      ],
      "metadata": {
        "id": "WKSn3btj_vg7"
      }
    },
    {
      "cell_type": "code",
      "source": [
        "np.random.randn(10) # 10 random numbers from normal distribution"
      ],
      "metadata": {
        "colab": {
          "base_uri": "https://localhost:8080/"
        },
        "id": "WJK_SyRq_0m8",
        "outputId": "67a6ce44-5436-4c72-8b59-46ec44fe520c"
      },
      "execution_count": 43,
      "outputs": [
        {
          "output_type": "execute_result",
          "data": {
            "text/plain": [
              "array([ 0.23309524,  0.11799461,  1.46237812,  1.53871497, -2.43910582,\n",
              "        0.60344123, -0.25104397, -0.16386712, -1.47632969,  1.48698096])"
            ]
          },
          "metadata": {},
          "execution_count": 43
        }
      ]
    },
    {
      "cell_type": "code",
      "source": [
        "10+2*np.random.randn(10) # random normal distribution with mu=10 and sigma=2"
      ],
      "metadata": {
        "colab": {
          "base_uri": "https://localhost:8080/"
        },
        "id": "EVwGFflvARpC",
        "outputId": "87a8cb43-f630-4d90-ce55-a37166d434fd"
      },
      "execution_count": 44,
      "outputs": [
        {
          "output_type": "execute_result",
          "data": {
            "text/plain": [
              "array([ 9.95108965, 10.71110263, 10.83402222, 11.66492371,  9.41320171,\n",
              "        9.94032286, 10.19025157, 11.32930869,  9.71956301,  9.9336132 ])"
            ]
          },
          "metadata": {},
          "execution_count": 44
        }
      ]
    },
    {
      "cell_type": "code",
      "source": [
        "np.random.rand(3,3)"
      ],
      "metadata": {
        "colab": {
          "base_uri": "https://localhost:8080/"
        },
        "id": "FPvDOHsYAe5x",
        "outputId": "0067abbb-9fc1-47ba-d89d-8d7744e5b2f6"
      },
      "execution_count": 45,
      "outputs": [
        {
          "output_type": "execute_result",
          "data": {
            "text/plain": [
              "array([[0.23089383, 0.24102547, 0.68326352],\n",
              "       [0.60999666, 0.83319491, 0.17336465],\n",
              "       [0.39106061, 0.18223609, 0.75536141]])"
            ]
          },
          "metadata": {},
          "execution_count": 45
        }
      ]
    },
    {
      "cell_type": "code",
      "source": [
        "np.random.random((3,2)) # take tuple as argument"
      ],
      "metadata": {
        "colab": {
          "base_uri": "https://localhost:8080/"
        },
        "id": "O2z-YJZMC7Hq",
        "outputId": "5fee751b-a293-4c89-cd89-a82ec3f14acb"
      },
      "execution_count": 46,
      "outputs": [
        {
          "output_type": "execute_result",
          "data": {
            "text/plain": [
              "array([[0.42515587, 0.20794166],\n",
              "       [0.56770033, 0.03131329],\n",
              "       [0.84228477, 0.44975413]])"
            ]
          },
          "metadata": {},
          "execution_count": 46
        }
      ]
    },
    {
      "cell_type": "markdown",
      "source": [
        "**ARRAY SHAPE MANIPULATION**"
      ],
      "metadata": {
        "id": "JyWoXhrJCS0I"
      }
    },
    {
      "cell_type": "code",
      "source": [
        "np.random.seed(42)\n",
        "arr_m=np.random.randn(10)"
      ],
      "metadata": {
        "id": "PiFCaWO4CX1k"
      },
      "execution_count": 47,
      "outputs": []
    },
    {
      "cell_type": "code",
      "source": [
        "arr_m"
      ],
      "metadata": {
        "colab": {
          "base_uri": "https://localhost:8080/"
        },
        "id": "IPz1XF9QCRiU",
        "outputId": "4b9f93f4-68bd-4312-e96b-1a510e122839"
      },
      "execution_count": 48,
      "outputs": [
        {
          "output_type": "execute_result",
          "data": {
            "text/plain": [
              "array([ 0.49671415, -0.1382643 ,  0.64768854,  1.52302986, -0.23415337,\n",
              "       -0.23413696,  1.57921282,  0.76743473, -0.46947439,  0.54256004])"
            ]
          },
          "metadata": {},
          "execution_count": 48
        }
      ]
    },
    {
      "cell_type": "code",
      "source": [
        "arr_m.reshape(2,5) # reshape array"
      ],
      "metadata": {
        "colab": {
          "base_uri": "https://localhost:8080/"
        },
        "id": "xxcBXX5qDhIL",
        "outputId": "2881c2c6-c0d2-41ed-e0e6-6f71f0d940dd"
      },
      "execution_count": 49,
      "outputs": [
        {
          "output_type": "execute_result",
          "data": {
            "text/plain": [
              "array([[ 0.49671415, -0.1382643 ,  0.64768854,  1.52302986, -0.23415337],\n",
              "       [-0.23413696,  1.57921282,  0.76743473, -0.46947439,  0.54256004]])"
            ]
          },
          "metadata": {},
          "execution_count": 49
        }
      ]
    },
    {
      "cell_type": "markdown",
      "source": [
        "stacking arrays vertically (np.vstack)"
      ],
      "metadata": {
        "id": "JYcdOh-iEJ_y"
      }
    },
    {
      "cell_type": "code",
      "source": [
        "arr_m2=np.linspace(1,10,num=10).reshape(2,5)\n",
        "arr_m2"
      ],
      "metadata": {
        "colab": {
          "base_uri": "https://localhost:8080/"
        },
        "id": "ibCIYGTgERyd",
        "outputId": "9a5c488c-e0d5-451c-ae9a-5e04342c7286"
      },
      "execution_count": 50,
      "outputs": [
        {
          "output_type": "execute_result",
          "data": {
            "text/plain": [
              "array([[ 1.,  2.,  3.,  4.,  5.],\n",
              "       [ 6.,  7.,  8.,  9., 10.]])"
            ]
          },
          "metadata": {},
          "execution_count": 50
        }
      ]
    },
    {
      "cell_type": "code",
      "source": [
        "arr_m3=np.arange(1,11,dtype=float).reshape(2,5)\n",
        "arr_m3"
      ],
      "metadata": {
        "colab": {
          "base_uri": "https://localhost:8080/"
        },
        "id": "6fzh8qXjF-mD",
        "outputId": "e7a7663e-c7e1-4d15-bc02-dd3d8834977d"
      },
      "execution_count": 51,
      "outputs": [
        {
          "output_type": "execute_result",
          "data": {
            "text/plain": [
              "array([[ 1.,  2.,  3.,  4.,  5.],\n",
              "       [ 6.,  7.,  8.,  9., 10.]])"
            ]
          },
          "metadata": {},
          "execution_count": 51
        }
      ]
    },
    {
      "cell_type": "code",
      "source": [
        "np.vstack((arr_m2,arr_m3))"
      ],
      "metadata": {
        "colab": {
          "base_uri": "https://localhost:8080/"
        },
        "id": "DbLeoDEZEfOb",
        "outputId": "219e449e-509a-4d20-a87e-986bdb93ff0f"
      },
      "execution_count": 52,
      "outputs": [
        {
          "output_type": "execute_result",
          "data": {
            "text/plain": [
              "array([[ 1.,  2.,  3.,  4.,  5.],\n",
              "       [ 6.,  7.,  8.,  9., 10.],\n",
              "       [ 1.,  2.,  3.,  4.,  5.],\n",
              "       [ 6.,  7.,  8.,  9., 10.]])"
            ]
          },
          "metadata": {},
          "execution_count": 52
        }
      ]
    },
    {
      "cell_type": "code",
      "source": [
        "x = np.array([[-1, 1], [-3, 3]])\n",
        "y = np.array([[-2, 2], [-4, 4]])\n",
        "np.vstack((x,y))"
      ],
      "metadata": {
        "colab": {
          "base_uri": "https://localhost:8080/"
        },
        "id": "_RjB8aIoE0CE",
        "outputId": "d97ab29e-5ac7-44ac-8353-92c336ab3da6"
      },
      "execution_count": 53,
      "outputs": [
        {
          "output_type": "execute_result",
          "data": {
            "text/plain": [
              "array([[-1,  1],\n",
              "       [-3,  3],\n",
              "       [-2,  2],\n",
              "       [-4,  4]])"
            ]
          },
          "metadata": {},
          "execution_count": 53
        }
      ]
    },
    {
      "cell_type": "markdown",
      "source": [
        "Stacking arrays horizontally (np.hstack)"
      ],
      "metadata": {
        "id": "zpemKH-XGtOM"
      }
    },
    {
      "cell_type": "code",
      "source": [
        "x = np.array([[-1, 1], [-3, 3]])\n",
        "y = np.array([[-2, 2], [-4, 4]])\n",
        "z = np.array([[-5, 5], [-6, 6]])"
      ],
      "metadata": {
        "id": "cHPDx4cvGyHc"
      },
      "execution_count": 54,
      "outputs": []
    },
    {
      "cell_type": "code",
      "source": [
        "x"
      ],
      "metadata": {
        "colab": {
          "base_uri": "https://localhost:8080/"
        },
        "id": "N1qHhzUeG5gn",
        "outputId": "70c6bdb9-dfe5-45bc-f915-1123b00e3b52"
      },
      "execution_count": 55,
      "outputs": [
        {
          "output_type": "execute_result",
          "data": {
            "text/plain": [
              "array([[-1,  1],\n",
              "       [-3,  3]])"
            ]
          },
          "metadata": {},
          "execution_count": 55
        }
      ]
    },
    {
      "cell_type": "code",
      "source": [
        "y"
      ],
      "metadata": {
        "colab": {
          "base_uri": "https://localhost:8080/"
        },
        "id": "JVobFBOmG7IE",
        "outputId": "194d7030-ae3a-492b-f0cd-2219e970bff1"
      },
      "execution_count": 56,
      "outputs": [
        {
          "output_type": "execute_result",
          "data": {
            "text/plain": [
              "array([[-2,  2],\n",
              "       [-4,  4]])"
            ]
          },
          "metadata": {},
          "execution_count": 56
        }
      ]
    },
    {
      "cell_type": "code",
      "source": [
        "np.hstack((x,y,z))"
      ],
      "metadata": {
        "colab": {
          "base_uri": "https://localhost:8080/"
        },
        "id": "xhqFmqzNHBNN",
        "outputId": "1d75d220-cfbc-4e00-b294-fd339bec4925"
      },
      "execution_count": 57,
      "outputs": [
        {
          "output_type": "execute_result",
          "data": {
            "text/plain": [
              "array([[-1,  1, -2,  2, -5,  5],\n",
              "       [-3,  3, -4,  4, -6,  6]])"
            ]
          },
          "metadata": {},
          "execution_count": 57
        }
      ]
    },
    {
      "cell_type": "markdown",
      "source": [
        "Splitting arrays vertically (np.vsplit)"
      ],
      "metadata": {
        "id": "sx3HG5HOHaS-"
      }
    },
    {
      "cell_type": "code",
      "source": [
        "arr_m4=np.arange(30)\n",
        "arr_m4"
      ],
      "metadata": {
        "colab": {
          "base_uri": "https://localhost:8080/"
        },
        "id": "-u1SqyDjHZDL",
        "outputId": "14f8cbc4-dec4-4945-a971-70a7c899609f"
      },
      "execution_count": 58,
      "outputs": [
        {
          "output_type": "execute_result",
          "data": {
            "text/plain": [
              "array([ 0,  1,  2,  3,  4,  5,  6,  7,  8,  9, 10, 11, 12, 13, 14, 15, 16,\n",
              "       17, 18, 19, 20, 21, 22, 23, 24, 25, 26, 27, 28, 29])"
            ]
          },
          "metadata": {},
          "execution_count": 58
        }
      ]
    },
    {
      "cell_type": "code",
      "source": [
        "arr_m5= arr_m4.reshape(6,5)"
      ],
      "metadata": {
        "id": "MjuhS2FjIGzl"
      },
      "execution_count": 59,
      "outputs": []
    },
    {
      "cell_type": "code",
      "source": [
        "np.vsplit(arr_m5,2)[0]"
      ],
      "metadata": {
        "colab": {
          "base_uri": "https://localhost:8080/"
        },
        "id": "UdCQQ-sYIdrr",
        "outputId": "f5be9db4-00fb-4808-ae18-ba59540a415e"
      },
      "execution_count": 60,
      "outputs": [
        {
          "output_type": "execute_result",
          "data": {
            "text/plain": [
              "array([[ 0,  1,  2,  3,  4],\n",
              "       [ 5,  6,  7,  8,  9],\n",
              "       [10, 11, 12, 13, 14]])"
            ]
          },
          "metadata": {},
          "execution_count": 60
        }
      ]
    },
    {
      "cell_type": "code",
      "source": [
        "np.vsplit(arr_m5,2)[1]"
      ],
      "metadata": {
        "colab": {
          "base_uri": "https://localhost:8080/"
        },
        "id": "H2OemVXJJWDH",
        "outputId": "55289a5b-1238-41b7-c5ea-0c6bdde1876f"
      },
      "execution_count": 61,
      "outputs": [
        {
          "output_type": "execute_result",
          "data": {
            "text/plain": [
              "array([[15, 16, 17, 18, 19],\n",
              "       [20, 21, 22, 23, 24],\n",
              "       [25, 26, 27, 28, 29]])"
            ]
          },
          "metadata": {},
          "execution_count": 61
        }
      ]
    },
    {
      "cell_type": "code",
      "source": [
        "# can split vertically at specific row number\n",
        "\n",
        "x = np.arange(40).reshape(8, 5)\n",
        "res = np.vsplit(x, (2, 6))\n",
        "print(res[0], end='\\n\\n')\n",
        "print(res[1], end='\\n\\n')\n",
        "print(res[2])"
      ],
      "metadata": {
        "colab": {
          "base_uri": "https://localhost:8080/"
        },
        "id": "JxWWfD5GJ2lm",
        "outputId": "835bd396-a70f-4c8c-99ef-1d73362aa604"
      },
      "execution_count": 62,
      "outputs": [
        {
          "output_type": "stream",
          "name": "stdout",
          "text": [
            "[[0 1 2 3 4]\n",
            " [5 6 7 8 9]]\n",
            "\n",
            "[[10 11 12 13 14]\n",
            " [15 16 17 18 19]\n",
            " [20 21 22 23 24]\n",
            " [25 26 27 28 29]]\n",
            "\n",
            "[[30 31 32 33 34]\n",
            " [35 36 37 38 39]]\n"
          ]
        }
      ]
    },
    {
      "cell_type": "markdown",
      "source": [
        "splitting arrays horizontally"
      ],
      "metadata": {
        "id": "RDlX69mdKbRP"
      }
    },
    {
      "cell_type": "code",
      "source": [
        "x = np.arange(40).reshape(8, 5)\n",
        "res = np.hsplit(x, (2, 4))\n",
        "print(res[0], end='\\n\\n')\n",
        "print(res[1], end='\\n\\n')\n",
        "print(res[2])"
      ],
      "metadata": {
        "colab": {
          "base_uri": "https://localhost:8080/"
        },
        "id": "J2qoNdlJKObe",
        "outputId": "8b16b482-16a6-4dac-cfcb-fb36edd07a56"
      },
      "execution_count": 63,
      "outputs": [
        {
          "output_type": "stream",
          "name": "stdout",
          "text": [
            "[[ 0  1]\n",
            " [ 5  6]\n",
            " [10 11]\n",
            " [15 16]\n",
            " [20 21]\n",
            " [25 26]\n",
            " [30 31]\n",
            " [35 36]]\n",
            "\n",
            "[[ 2  3]\n",
            " [ 7  8]\n",
            " [12 13]\n",
            " [17 18]\n",
            " [22 23]\n",
            " [27 28]\n",
            " [32 33]\n",
            " [37 38]]\n",
            "\n",
            "[[ 4]\n",
            " [ 9]\n",
            " [14]\n",
            " [19]\n",
            " [24]\n",
            " [29]\n",
            " [34]\n",
            " [39]]\n"
          ]
        }
      ]
    },
    {
      "cell_type": "markdown",
      "source": [
        "In numpy when we cut ndarray\n",
        "1. row-wise we call it vertical split\n",
        "2. column-wise we call it horizontal split  \n"
      ],
      "metadata": {
        "id": "3JGHN8KhLBRN"
      }
    },
    {
      "cell_type": "markdown",
      "source": [
        "**Basic Operations in Numpy**\n",
        "1. numpy ndarray supports operations element wise\n",
        "2. Operations between arrays also happens elements wise"
      ],
      "metadata": {
        "id": "KBW2k0PhNyuP"
      }
    },
    {
      "cell_type": "code",
      "source": [
        "a=np.arange(10)\n",
        "a"
      ],
      "metadata": {
        "colab": {
          "base_uri": "https://localhost:8080/"
        },
        "id": "ksPU_FMAN6ue",
        "outputId": "ecad9644-5eb2-45ec-8313-88bdd711686b"
      },
      "execution_count": 64,
      "outputs": [
        {
          "output_type": "execute_result",
          "data": {
            "text/plain": [
              "array([0, 1, 2, 3, 4, 5, 6, 7, 8, 9])"
            ]
          },
          "metadata": {},
          "execution_count": 64
        }
      ]
    },
    {
      "cell_type": "code",
      "source": [
        "a+10 # scalar addition"
      ],
      "metadata": {
        "colab": {
          "base_uri": "https://localhost:8080/"
        },
        "id": "19XIhpyqOqLX",
        "outputId": "6df9f582-fcad-4ebc-875c-728432fb253f"
      },
      "execution_count": 65,
      "outputs": [
        {
          "output_type": "execute_result",
          "data": {
            "text/plain": [
              "array([10, 11, 12, 13, 14, 15, 16, 17, 18, 19])"
            ]
          },
          "metadata": {},
          "execution_count": 65
        }
      ]
    },
    {
      "cell_type": "code",
      "source": [
        "a*2 # scalar multiplication"
      ],
      "metadata": {
        "colab": {
          "base_uri": "https://localhost:8080/"
        },
        "id": "lvjxiMeNOvMe",
        "outputId": "54521862-1d23-40a2-8874-0497564bf46f"
      },
      "execution_count": 66,
      "outputs": [
        {
          "output_type": "execute_result",
          "data": {
            "text/plain": [
              "array([ 0,  2,  4,  6,  8, 10, 12, 14, 16, 18])"
            ]
          },
          "metadata": {},
          "execution_count": 66
        }
      ]
    },
    {
      "cell_type": "code",
      "source": [
        "a/2 # scalar division"
      ],
      "metadata": {
        "colab": {
          "base_uri": "https://localhost:8080/"
        },
        "id": "9bz5ZU8-OyL4",
        "outputId": "3aaa5ed8-155c-4dfb-fb6e-210d7e32d840"
      },
      "execution_count": 67,
      "outputs": [
        {
          "output_type": "execute_result",
          "data": {
            "text/plain": [
              "array([0. , 0.5, 1. , 1.5, 2. , 2.5, 3. , 3.5, 4. , 4.5])"
            ]
          },
          "metadata": {},
          "execution_count": 67
        }
      ]
    },
    {
      "cell_type": "code",
      "source": [
        "a-2 # scalar subtraction"
      ],
      "metadata": {
        "colab": {
          "base_uri": "https://localhost:8080/"
        },
        "id": "X5kd2RwyO0kC",
        "outputId": "3ae27fc7-22be-4af3-99a9-75ee422310cf"
      },
      "execution_count": 68,
      "outputs": [
        {
          "output_type": "execute_result",
          "data": {
            "text/plain": [
              "array([-2, -1,  0,  1,  2,  3,  4,  5,  6,  7])"
            ]
          },
          "metadata": {},
          "execution_count": 68
        }
      ]
    },
    {
      "cell_type": "code",
      "source": [
        "b=np.arange(0,20,2)\n",
        "b"
      ],
      "metadata": {
        "colab": {
          "base_uri": "https://localhost:8080/"
        },
        "id": "WWIMnblwPNWt",
        "outputId": "efbccb76-90af-4a58-da5f-1eb682b5b769"
      },
      "execution_count": 69,
      "outputs": [
        {
          "output_type": "execute_result",
          "data": {
            "text/plain": [
              "array([ 0,  2,  4,  6,  8, 10, 12, 14, 16, 18])"
            ]
          },
          "metadata": {},
          "execution_count": 69
        }
      ]
    },
    {
      "cell_type": "code",
      "source": [
        "a+b # addition of two arrays"
      ],
      "metadata": {
        "colab": {
          "base_uri": "https://localhost:8080/"
        },
        "id": "l5xbIg4dPVLH",
        "outputId": "087ef631-c5e7-4ea8-b13e-0e16cea5ae85"
      },
      "execution_count": 70,
      "outputs": [
        {
          "output_type": "execute_result",
          "data": {
            "text/plain": [
              "array([ 0,  3,  6,  9, 12, 15, 18, 21, 24, 27])"
            ]
          },
          "metadata": {},
          "execution_count": 70
        }
      ]
    },
    {
      "cell_type": "code",
      "source": [
        "a-b"
      ],
      "metadata": {
        "colab": {
          "base_uri": "https://localhost:8080/"
        },
        "id": "RSwTaPVWPcnn",
        "outputId": "768fbc55-aaa6-4a22-ff1d-c94718f06bfc"
      },
      "execution_count": 71,
      "outputs": [
        {
          "output_type": "execute_result",
          "data": {
            "text/plain": [
              "array([ 0, -1, -2, -3, -4, -5, -6, -7, -8, -9])"
            ]
          },
          "metadata": {},
          "execution_count": 71
        }
      ]
    },
    {
      "cell_type": "code",
      "source": [
        "a*b"
      ],
      "metadata": {
        "colab": {
          "base_uri": "https://localhost:8080/"
        },
        "id": "CTqOkvYZPgCt",
        "outputId": "306c155c-0f98-47f3-eee8-5c652359341e"
      },
      "execution_count": 72,
      "outputs": [
        {
          "output_type": "execute_result",
          "data": {
            "text/plain": [
              "array([  0,   2,   8,  18,  32,  50,  72,  98, 128, 162])"
            ]
          },
          "metadata": {},
          "execution_count": 72
        }
      ]
    },
    {
      "cell_type": "code",
      "source": [
        "a/b"
      ],
      "metadata": {
        "colab": {
          "base_uri": "https://localhost:8080/"
        },
        "id": "CH-Ra8B8P4Ry",
        "outputId": "6c9a3536-1431-415f-da45-80847ec43ddf"
      },
      "execution_count": 73,
      "outputs": [
        {
          "output_type": "stream",
          "name": "stderr",
          "text": [
            "<ipython-input-73-aae42d317509>:1: RuntimeWarning: invalid value encountered in divide\n",
            "  a/b\n"
          ]
        },
        {
          "output_type": "execute_result",
          "data": {
            "text/plain": [
              "array([nan, 0.5, 0.5, 0.5, 0.5, 0.5, 0.5, 0.5, 0.5, 0.5])"
            ]
          },
          "metadata": {},
          "execution_count": 73
        }
      ]
    },
    {
      "cell_type": "markdown",
      "source": [
        "**Broadcasting in NumPy**\n",
        "<br>\n",
        "Element wise operations between arrays are possible only when they have the same shape or compatible for Broadcasting.\n",
        "<br>\n",
        "Steps followed to verify the feasibility of Broadcasting between arrays are:\n",
        "1. Initially, compare the dimensions of all arrays.\n",
        "2. If dimensions do not match, prepend 1's to shape of a smaller array so that it matches dimensions of a larger array.\n",
        "3. Start comparing array shapes from the last dimension and move backward.\n",
        "4. If the shape of both arrays are equal or either of it has a shape of 1, continue the comparison.\n",
        "5. Else at any dimension, if step 4 fails, broadcasting between arrays is not feasible.\n",
        "\n",
        "Finally, the resulted broadcasting array shape would be maximum of two compared shapes in each dimension.\n"
      ],
      "metadata": {
        "id": "524EQJM-RHKY"
      }
    },
    {
      "cell_type": "markdown",
      "source": [
        "Given: s1 = (4, 3); s2 = (3,)\n",
        "Step 1 and 2: s1 = (4, 3); s2 = (1, 3)\n",
        "Step 3 and 4: pass in 2 dimensions\n",
        "Result : Broadcasting feasible;\n",
        "         resulted array shape - (4,3)"
      ],
      "metadata": {
        "id": "58ho7p5wTrfY"
      }
    },
    {
      "cell_type": "markdown",
      "source": [
        "**Numpy Universal Functions**"
      ],
      "metadata": {
        "id": "7cLmec7JT6nQ"
      }
    },
    {
      "cell_type": "code",
      "source": [
        "# Examples"
      ],
      "metadata": {
        "id": "2M5dW9tMUASH"
      },
      "execution_count": 74,
      "outputs": []
    },
    {
      "cell_type": "code",
      "source": [
        "a"
      ],
      "metadata": {
        "colab": {
          "base_uri": "https://localhost:8080/"
        },
        "id": "peYcMmHtUK_p",
        "outputId": "3af1f901-aaa8-4b7e-b777-bd79fa2dba8d"
      },
      "execution_count": 75,
      "outputs": [
        {
          "output_type": "execute_result",
          "data": {
            "text/plain": [
              "array([0, 1, 2, 3, 4, 5, 6, 7, 8, 9])"
            ]
          },
          "metadata": {},
          "execution_count": 75
        }
      ]
    },
    {
      "cell_type": "code",
      "source": [
        "np.max(a) # max value"
      ],
      "metadata": {
        "colab": {
          "base_uri": "https://localhost:8080/"
        },
        "id": "hszWeq28UUdT",
        "outputId": "e4052dc5-6fda-43e9-ada1-e4d684d7a71d"
      },
      "execution_count": 76,
      "outputs": [
        {
          "output_type": "execute_result",
          "data": {
            "text/plain": [
              "9"
            ]
          },
          "metadata": {},
          "execution_count": 76
        }
      ]
    },
    {
      "cell_type": "code",
      "source": [
        "np.min(a) # min value"
      ],
      "metadata": {
        "colab": {
          "base_uri": "https://localhost:8080/"
        },
        "id": "54E6UGYCUXc3",
        "outputId": "1c8d1769-c555-403d-cc01-87eaee3d3319"
      },
      "execution_count": 77,
      "outputs": [
        {
          "output_type": "execute_result",
          "data": {
            "text/plain": [
              "0"
            ]
          },
          "metadata": {},
          "execution_count": 77
        }
      ]
    },
    {
      "cell_type": "code",
      "source": [
        "np.mean(a)"
      ],
      "metadata": {
        "colab": {
          "base_uri": "https://localhost:8080/"
        },
        "id": "_m7qjfE8UZvf",
        "outputId": "c515fb8b-9f4d-4409-f539-e7968d8aa846"
      },
      "execution_count": 78,
      "outputs": [
        {
          "output_type": "execute_result",
          "data": {
            "text/plain": [
              "4.5"
            ]
          },
          "metadata": {},
          "execution_count": 78
        }
      ]
    },
    {
      "cell_type": "code",
      "source": [
        "np.sum(a) # sum of all elements"
      ],
      "metadata": {
        "colab": {
          "base_uri": "https://localhost:8080/"
        },
        "id": "8fGNr3Z9UcaH",
        "outputId": "838729b3-8cc1-4113-e3d7-06a76f348c92"
      },
      "execution_count": 79,
      "outputs": [
        {
          "output_type": "execute_result",
          "data": {
            "text/plain": [
              "45"
            ]
          },
          "metadata": {},
          "execution_count": 79
        }
      ]
    },
    {
      "cell_type": "code",
      "source": [
        "np.median(a) # median"
      ],
      "metadata": {
        "colab": {
          "base_uri": "https://localhost:8080/"
        },
        "id": "QLWVqjR6UfA4",
        "outputId": "d69aa5b2-b8e5-4413-83c2-84eafcb70c9b"
      },
      "execution_count": 80,
      "outputs": [
        {
          "output_type": "execute_result",
          "data": {
            "text/plain": [
              "4.5"
            ]
          },
          "metadata": {},
          "execution_count": 80
        }
      ]
    },
    {
      "cell_type": "code",
      "source": [
        "a.mean() # mean"
      ],
      "metadata": {
        "colab": {
          "base_uri": "https://localhost:8080/"
        },
        "id": "3TgWNG0vUi8I",
        "outputId": "62d50d45-5a49-4d3a-cc14-b7eae7ac037b"
      },
      "execution_count": 81,
      "outputs": [
        {
          "output_type": "execute_result",
          "data": {
            "text/plain": [
              "4.5"
            ]
          },
          "metadata": {},
          "execution_count": 81
        }
      ]
    },
    {
      "cell_type": "code",
      "source": [
        "a.std()"
      ],
      "metadata": {
        "colab": {
          "base_uri": "https://localhost:8080/"
        },
        "id": "W2N_uHAwUsE_",
        "outputId": "f3788797-50dc-42e3-bd5e-cb442c6d44bf"
      },
      "execution_count": 82,
      "outputs": [
        {
          "output_type": "execute_result",
          "data": {
            "text/plain": [
              "2.8722813232690143"
            ]
          },
          "metadata": {},
          "execution_count": 82
        }
      ]
    },
    {
      "cell_type": "code",
      "source": [
        "np.std(a) # standard deviation"
      ],
      "metadata": {
        "colab": {
          "base_uri": "https://localhost:8080/"
        },
        "id": "zfQ27EaSUu8I",
        "outputId": "dc1b98d2-38c0-4991-f2df-bf3070d5550a"
      },
      "execution_count": 83,
      "outputs": [
        {
          "output_type": "execute_result",
          "data": {
            "text/plain": [
              "2.8722813232690143"
            ]
          },
          "metadata": {},
          "execution_count": 83
        }
      ]
    },
    {
      "cell_type": "code",
      "source": [
        "np.square(a)"
      ],
      "metadata": {
        "colab": {
          "base_uri": "https://localhost:8080/"
        },
        "id": "GxCRNPmeVLiv",
        "outputId": "5d1fde39-726c-4ad6-d5b0-2d3c1b10e425"
      },
      "execution_count": 84,
      "outputs": [
        {
          "output_type": "execute_result",
          "data": {
            "text/plain": [
              "array([ 0,  1,  4,  9, 16, 25, 36, 49, 64, 81])"
            ]
          },
          "metadata": {},
          "execution_count": 84
        }
      ]
    },
    {
      "cell_type": "code",
      "source": [
        "np.sin(a)"
      ],
      "metadata": {
        "colab": {
          "base_uri": "https://localhost:8080/"
        },
        "id": "2-czmlk4VN5Z",
        "outputId": "0c832650-74e1-4b49-ad8b-9dcfaf128eaa"
      },
      "execution_count": 85,
      "outputs": [
        {
          "output_type": "execute_result",
          "data": {
            "text/plain": [
              "array([ 0.        ,  0.84147098,  0.90929743,  0.14112001, -0.7568025 ,\n",
              "       -0.95892427, -0.2794155 ,  0.6569866 ,  0.98935825,  0.41211849])"
            ]
          },
          "metadata": {},
          "execution_count": 85
        }
      ]
    },
    {
      "cell_type": "code",
      "source": [
        "np.exp(a)"
      ],
      "metadata": {
        "colab": {
          "base_uri": "https://localhost:8080/"
        },
        "id": "hOrQ8z5jVSBB",
        "outputId": "e5cf3ced-072a-424a-a442-654e0e83d92f"
      },
      "execution_count": 86,
      "outputs": [
        {
          "output_type": "execute_result",
          "data": {
            "text/plain": [
              "array([1.00000000e+00, 2.71828183e+00, 7.38905610e+00, 2.00855369e+01,\n",
              "       5.45981500e+01, 1.48413159e+02, 4.03428793e+02, 1.09663316e+03,\n",
              "       2.98095799e+03, 8.10308393e+03])"
            ]
          },
          "metadata": {},
          "execution_count": 86
        }
      ]
    },
    {
      "cell_type": "code",
      "source": [
        "np.e # euler's constant value"
      ],
      "metadata": {
        "colab": {
          "base_uri": "https://localhost:8080/"
        },
        "id": "2FKZeA2ZVZsZ",
        "outputId": "6dddf751-2a1c-4d03-edfd-6170685f8c33"
      },
      "execution_count": 87,
      "outputs": [
        {
          "output_type": "execute_result",
          "data": {
            "text/plain": [
              "2.718281828459045"
            ]
          },
          "metadata": {},
          "execution_count": 87
        }
      ]
    },
    {
      "cell_type": "markdown",
      "source": [
        "applying these functions on elements along some axis"
      ],
      "metadata": {
        "id": "gXJgNOW4VlsI"
      }
    },
    {
      "cell_type": "code",
      "source": [
        "c=np.arange(20).reshape(2,2,5)"
      ],
      "metadata": {
        "id": "quv2XtYkVre9"
      },
      "execution_count": 88,
      "outputs": []
    },
    {
      "cell_type": "code",
      "source": [
        "c"
      ],
      "metadata": {
        "colab": {
          "base_uri": "https://localhost:8080/"
        },
        "id": "kjXKzVsYVjah",
        "outputId": "b2297c31-625e-4f73-aa3a-434bf298425c"
      },
      "execution_count": 89,
      "outputs": [
        {
          "output_type": "execute_result",
          "data": {
            "text/plain": [
              "array([[[ 0,  1,  2,  3,  4],\n",
              "        [ 5,  6,  7,  8,  9]],\n",
              "\n",
              "       [[10, 11, 12, 13, 14],\n",
              "        [15, 16, 17, 18, 19]]])"
            ]
          },
          "metadata": {},
          "execution_count": 89
        }
      ]
    },
    {
      "cell_type": "code",
      "source": [
        "np.sum(c,axis=0) # sum along depth of the 3d structure"
      ],
      "metadata": {
        "colab": {
          "base_uri": "https://localhost:8080/"
        },
        "id": "LTttd0gpV2Ue",
        "outputId": "8b4b95ef-8cf0-4776-a2b8-8c4d2f88d16d"
      },
      "execution_count": 90,
      "outputs": [
        {
          "output_type": "execute_result",
          "data": {
            "text/plain": [
              "array([[10, 12, 14, 16, 18],\n",
              "       [20, 22, 24, 26, 28]])"
            ]
          },
          "metadata": {},
          "execution_count": 90
        }
      ]
    },
    {
      "cell_type": "code",
      "source": [
        "np.sum(c, axis=1) # sum along height of the 3d structure"
      ],
      "metadata": {
        "colab": {
          "base_uri": "https://localhost:8080/"
        },
        "id": "OzGQt_lfWErB",
        "outputId": "7df2531f-0061-4f7a-c53f-075ef659bae2"
      },
      "execution_count": 91,
      "outputs": [
        {
          "output_type": "execute_result",
          "data": {
            "text/plain": [
              "array([[ 5,  7,  9, 11, 13],\n",
              "       [25, 27, 29, 31, 33]])"
            ]
          },
          "metadata": {},
          "execution_count": 91
        }
      ]
    },
    {
      "cell_type": "code",
      "source": [
        "np.sum(c, axis=2) # sum along width of the 3d structure"
      ],
      "metadata": {
        "colab": {
          "base_uri": "https://localhost:8080/"
        },
        "id": "oYpTbYzFWRxw",
        "outputId": "5c2e8f65-8044-40fe-883d-d19cb6f8acd0"
      },
      "execution_count": 92,
      "outputs": [
        {
          "output_type": "execute_result",
          "data": {
            "text/plain": [
              "array([[10, 35],\n",
              "       [60, 85]])"
            ]
          },
          "metadata": {},
          "execution_count": 92
        }
      ]
    },
    {
      "cell_type": "code",
      "source": [
        "np.sum(c) # sum of all elements"
      ],
      "metadata": {
        "colab": {
          "base_uri": "https://localhost:8080/"
        },
        "id": "04XfwVR8WguQ",
        "outputId": "5b347c0a-cb49-40b9-b6d8-1e986b4ae33a"
      },
      "execution_count": 93,
      "outputs": [
        {
          "output_type": "execute_result",
          "data": {
            "text/plain": [
              "190"
            ]
          },
          "metadata": {},
          "execution_count": 93
        }
      ]
    },
    {
      "cell_type": "markdown",
      "source": [
        "Indexing & Slicing 1-d ndarray"
      ],
      "metadata": {
        "id": "xNlGF8KlVmQh"
      }
    },
    {
      "cell_type": "code",
      "source": [
        "# slice object -> start:end:stop (all three optional)\n",
        "x = np.array([5, 10, 15, 20, 25, 30, 35])\n",
        "print(x[1])  # Indexing\n",
        "print(x[1:6]) # Slicing\n",
        "print(x[1:6:3]) # Slicing"
      ],
      "metadata": {
        "colab": {
          "base_uri": "https://localhost:8080/"
        },
        "id": "uiv6Mf68Vt8s",
        "outputId": "ea713786-38ac-4fc7-d0c3-624898f46645"
      },
      "execution_count": 94,
      "outputs": [
        {
          "output_type": "stream",
          "name": "stdout",
          "text": [
            "10\n",
            "[10 15 20 25 30]\n",
            "[10 25]\n"
          ]
        }
      ]
    },
    {
      "cell_type": "markdown",
      "source": [
        "Indexing & Slicing 2-d ndarray"
      ],
      "metadata": {
        "id": "Zb4_KnmBWYjT"
      }
    },
    {
      "cell_type": "code",
      "source": [
        "# syntax arr[slicing_object1,slicing_object2] or arr[row_object,column_object]\n",
        "import numpy as np\n",
        "y = np.array([[0, 1, 2],\n",
        "              [3, 4, 5]])\n",
        "print(y[1:2, 1:3])\n",
        "print(y[1])\n",
        "print(y[:, 1])"
      ],
      "metadata": {
        "colab": {
          "base_uri": "https://localhost:8080/"
        },
        "id": "_h_gAJ3xWSrL",
        "outputId": "68b08122-5412-4aad-fb8d-a3d4dd65f173"
      },
      "execution_count": 95,
      "outputs": [
        {
          "output_type": "stream",
          "name": "stdout",
          "text": [
            "[[4 5]]\n",
            "[3 4 5]\n",
            "[1 4]\n",
            "[[4 5]]\n",
            "[3 4 5]\n",
            "[1 4]\n"
          ]
        }
      ]
    },
    {
      "cell_type": "code",
      "source": [
        "z = np.array([[[-1, 1], [-2, 2]],\n",
        "              [[-4, 4], [-5, 5]],\n",
        "              [[-7, 7], [-9, 9]]])\n",
        "z"
      ],
      "metadata": {
        "colab": {
          "base_uri": "https://localhost:8080/"
        },
        "id": "fdxxCJO6XRrj",
        "outputId": "55a4c6ec-afeb-4812-c7e8-15f73d253504"
      },
      "execution_count": 97,
      "outputs": [
        {
          "output_type": "execute_result",
          "data": {
            "text/plain": [
              "array([[[-1,  1],\n",
              "        [-2,  2]],\n",
              "\n",
              "       [[-4,  4],\n",
              "        [-5,  5]],\n",
              "\n",
              "       [[-7,  7],\n",
              "        [-9,  9]]])"
            ]
          },
          "metadata": {},
          "execution_count": 97
        }
      ]
    },
    {
      "cell_type": "code",
      "source": [
        "z[1,:,1]"
      ],
      "metadata": {
        "colab": {
          "base_uri": "https://localhost:8080/"
        },
        "id": "W4Bl8QmRX1-d",
        "outputId": "e14d6523-0d30-44db-e89a-69b5d8d0a549"
      },
      "execution_count": 98,
      "outputs": [
        {
          "output_type": "execute_result",
          "data": {
            "text/plain": [
              "array([4, 5])"
            ]
          },
          "metadata": {},
          "execution_count": 98
        }
      ]
    },
    {
      "cell_type": "code",
      "source": [
        "print(z[1:,1,:])"
      ],
      "metadata": {
        "colab": {
          "base_uri": "https://localhost:8080/"
        },
        "id": "Gw5a0FFdYU8H",
        "outputId": "5a48efa5-f649-498b-a18d-a06cbc174f58"
      },
      "execution_count": 99,
      "outputs": [
        {
          "output_type": "stream",
          "name": "stdout",
          "text": [
            "[[-5  5]\n",
            " [-9  9]]\n"
          ]
        }
      ]
    },
    {
      "cell_type": "code",
      "source": [
        "z[2]"
      ],
      "metadata": {
        "colab": {
          "base_uri": "https://localhost:8080/"
        },
        "id": "8EcUe4shYiGF",
        "outputId": "60efc702-1440-4af4-9b8f-d5e641ac84fd"
      },
      "execution_count": 100,
      "outputs": [
        {
          "output_type": "execute_result",
          "data": {
            "text/plain": [
              "array([[-7,  7],\n",
              "       [-9,  9]])"
            ]
          },
          "metadata": {},
          "execution_count": 100
        }
      ]
    },
    {
      "cell_type": "markdown",
      "source": [
        "Loop over for ndarray"
      ],
      "metadata": {
        "id": "rBPUAweHZMRF"
      }
    },
    {
      "cell_type": "code",
      "source": [
        "z"
      ],
      "metadata": {
        "colab": {
          "base_uri": "https://localhost:8080/"
        },
        "id": "j9mRYlw9ZQ8F",
        "outputId": "3c000e44-a735-4b1a-f950-1d803c596f59"
      },
      "execution_count": 101,
      "outputs": [
        {
          "output_type": "execute_result",
          "data": {
            "text/plain": [
              "array([[[-1,  1],\n",
              "        [-2,  2]],\n",
              "\n",
              "       [[-4,  4],\n",
              "        [-5,  5]],\n",
              "\n",
              "       [[-7,  7],\n",
              "        [-9,  9]]])"
            ]
          },
          "metadata": {},
          "execution_count": 101
        }
      ]
    },
    {
      "cell_type": "code",
      "source": [
        "for r in z:\n",
        "    print(r, end=\"\\n\\n\")"
      ],
      "metadata": {
        "colab": {
          "base_uri": "https://localhost:8080/"
        },
        "id": "EyQ5mDOPZUbz",
        "outputId": "973e6ec4-2a41-4fd8-a6d3-5599d3a48b74"
      },
      "execution_count": 104,
      "outputs": [
        {
          "output_type": "stream",
          "name": "stdout",
          "text": [
            "[[-1  1]\n",
            " [-2  2]]\n",
            "\n",
            "[[-4  4]\n",
            " [-5  5]]\n",
            "\n",
            "[[-7  7]\n",
            " [-9  9]]\n",
            "\n"
          ]
        }
      ]
    },
    {
      "cell_type": "code",
      "source": [
        "#np.nditer\n",
        "for r in np.nditer(z):\n",
        "    print(r, end=\" \")"
      ],
      "metadata": {
        "colab": {
          "base_uri": "https://localhost:8080/"
        },
        "id": "sTH0jnkXZrBS",
        "outputId": "2bef5ef7-b00a-4fcf-eb10-9458ea35cd31"
      },
      "execution_count": 107,
      "outputs": [
        {
          "output_type": "stream",
          "name": "stdout",
          "text": [
            "-1 1 -2 2 -4 4 -5 5 -7 7 -9 9 "
          ]
        }
      ]
    },
    {
      "cell_type": "code",
      "source": [
        "x = np.array([[1, 2], [3, 4], [5, 6]])\n",
        "x"
      ],
      "metadata": {
        "colab": {
          "base_uri": "https://localhost:8080/"
        },
        "id": "n66sJWzQb5Qf",
        "outputId": "070066b1-22a8-4111-bae2-55edc50ddc42"
      },
      "execution_count": 110,
      "outputs": [
        {
          "output_type": "execute_result",
          "data": {
            "text/plain": [
              "array([[1, 2],\n",
              "       [3, 4],\n",
              "       [5, 6]])"
            ]
          },
          "metadata": {},
          "execution_count": 110
        }
      ]
    },
    {
      "cell_type": "code",
      "source": [
        "x[[0,1,2],[0,1,1]]"
      ],
      "metadata": {
        "colab": {
          "base_uri": "https://localhost:8080/"
        },
        "id": "0fIUYSBOb_MF",
        "outputId": "cc90181f-e58d-4a12-a6cd-e7d99dff73c7"
      },
      "execution_count": 115,
      "outputs": [
        {
          "output_type": "execute_result",
          "data": {
            "text/plain": [
              "array([1, 4, 6])"
            ]
          },
          "metadata": {},
          "execution_count": 115
        }
      ]
    },
    {
      "cell_type": "code",
      "source": [
        "x.sum(-1) # sum across axis=1 Negative axis: 1d - 0|-1, 2d-(axis=0|-2-r,axis=1|-1-c)"
      ],
      "metadata": {
        "colab": {
          "base_uri": "https://localhost:8080/"
        },
        "id": "xveLXs-ceZtc",
        "outputId": "4b9a7dfe-9b6f-4784-daf1-1397dbf8f4a0"
      },
      "execution_count": 119,
      "outputs": [
        {
          "output_type": "execute_result",
          "data": {
            "text/plain": [
              "array([ 3,  7, 11])"
            ]
          },
          "metadata": {},
          "execution_count": 119
        }
      ]
    },
    {
      "cell_type": "markdown",
      "source": [
        "Some other very important functions"
      ],
      "metadata": {
        "id": "Am5-Q4XHg-vf"
      }
    },
    {
      "cell_type": "code",
      "source": [
        "# np.any and np.all\n",
        "x = np.array([1, 0, 0])\n",
        "print(np.any(x)) # Any one element True\n",
        "print(np.all(x))"
      ],
      "metadata": {
        "colab": {
          "base_uri": "https://localhost:8080/"
        },
        "id": "-jyQXSylg9o4",
        "outputId": "02f9c7d8-bfc2-46bf-fc44-3108ca3342ca"
      },
      "execution_count": 120,
      "outputs": [
        {
          "output_type": "stream",
          "name": "stdout",
          "text": [
            "True\n",
            "False\n"
          ]
        }
      ]
    },
    {
      "cell_type": "code",
      "source": [
        "np.any([np.nan,0])"
      ],
      "metadata": {
        "colab": {
          "base_uri": "https://localhost:8080/"
        },
        "id": "r6povAzmlGw6",
        "outputId": "13e43703-220f-477f-df34-b30ae14bd930"
      },
      "execution_count": 123,
      "outputs": [
        {
          "output_type": "execute_result",
          "data": {
            "text/plain": [
              "True"
            ]
          },
          "metadata": {},
          "execution_count": 123
        }
      ]
    },
    {
      "cell_type": "code",
      "source": [
        "np.any([np.inf,0])"
      ],
      "metadata": {
        "colab": {
          "base_uri": "https://localhost:8080/"
        },
        "id": "AGffM02blix5",
        "outputId": "afc25424-e03b-4995-c667-d25f015198c8"
      },
      "execution_count": 124,
      "outputs": [
        {
          "output_type": "execute_result",
          "data": {
            "text/plain": [
              "True"
            ]
          },
          "metadata": {},
          "execution_count": 124
        }
      ]
    },
    {
      "cell_type": "code",
      "source": [
        "np.all([1.0, np.nan])"
      ],
      "metadata": {
        "colab": {
          "base_uri": "https://localhost:8080/"
        },
        "id": "Jxq3enEolwGP",
        "outputId": "9e67e0b7-46ae-44e2-86d1-0009815c3722"
      },
      "execution_count": 125,
      "outputs": [
        {
          "output_type": "execute_result",
          "data": {
            "text/plain": [
              "True"
            ]
          },
          "metadata": {},
          "execution_count": 125
        }
      ]
    },
    {
      "cell_type": "markdown",
      "source": [
        "NOTE: np.nan. np.inf gives true because they are not equal to true"
      ],
      "metadata": {
        "id": "tyU0x_Q9l0nS"
      }
    },
    {
      "cell_type": "code",
      "source": [
        "d=np.linspace(1,10, num=10).reshape(5,2)\n",
        "d"
      ],
      "metadata": {
        "colab": {
          "base_uri": "https://localhost:8080/"
        },
        "id": "Wx0OnV-smKvO",
        "outputId": "0fef0f8f-97fb-4cf4-82b0-0f8c298b36bd"
      },
      "execution_count": 128,
      "outputs": [
        {
          "output_type": "execute_result",
          "data": {
            "text/plain": [
              "array([[ 1.,  2.],\n",
              "       [ 3.,  4.],\n",
              "       [ 5.,  6.],\n",
              "       [ 7.,  8.],\n",
              "       [ 9., 10.]])"
            ]
          },
          "metadata": {},
          "execution_count": 128
        }
      ]
    },
    {
      "cell_type": "code",
      "source": [
        "d.transpose()"
      ],
      "metadata": {
        "colab": {
          "base_uri": "https://localhost:8080/"
        },
        "id": "ID05-TOmmXa-",
        "outputId": "e9022bf9-4a76-49a4-d71c-311a4be32ffe"
      },
      "execution_count": 130,
      "outputs": [
        {
          "output_type": "execute_result",
          "data": {
            "text/plain": [
              "array([[ 1.,  3.,  5.,  7.,  9.],\n",
              "       [ 2.,  4.,  6.,  8., 10.]])"
            ]
          },
          "metadata": {},
          "execution_count": 130
        }
      ]
    },
    {
      "cell_type": "code",
      "source": [
        "d.T"
      ],
      "metadata": {
        "colab": {
          "base_uri": "https://localhost:8080/"
        },
        "id": "PowDxIVZmiFO",
        "outputId": "ecddbcfb-fc97-4fa4-ed19-aedad5db3f62"
      },
      "execution_count": 131,
      "outputs": [
        {
          "output_type": "execute_result",
          "data": {
            "text/plain": [
              "array([[ 1.,  3.,  5.,  7.,  9.],\n",
              "       [ 2.,  4.,  6.,  8., 10.]])"
            ]
          },
          "metadata": {},
          "execution_count": 131
        }
      ]
    },
    {
      "cell_type": "code",
      "source": [
        "d.flatten()"
      ],
      "metadata": {
        "colab": {
          "base_uri": "https://localhost:8080/"
        },
        "id": "D3aMeb_ymkTv",
        "outputId": "7184cc31-e428-496c-80a4-974cae8fd9c9"
      },
      "execution_count": 133,
      "outputs": [
        {
          "output_type": "execute_result",
          "data": {
            "text/plain": [
              "array([ 1.,  2.,  3.,  4.,  5.,  6.,  7.,  8.,  9., 10.])"
            ]
          },
          "metadata": {},
          "execution_count": 133
        }
      ]
    },
    {
      "cell_type": "code",
      "source": [
        "d.ravel()"
      ],
      "metadata": {
        "colab": {
          "base_uri": "https://localhost:8080/"
        },
        "id": "2XtfEkWqmxjH",
        "outputId": "e842390c-d5be-4ff2-b9a9-663afffcd117"
      },
      "execution_count": 134,
      "outputs": [
        {
          "output_type": "execute_result",
          "data": {
            "text/plain": [
              "array([ 1.,  2.,  3.,  4.,  5.,  6.,  7.,  8.,  9., 10.])"
            ]
          },
          "metadata": {},
          "execution_count": 134
        }
      ]
    },
    {
      "cell_type": "code",
      "source": [
        "np.ravel(d)"
      ],
      "metadata": {
        "colab": {
          "base_uri": "https://localhost:8080/"
        },
        "id": "GWyQ9r0rm0hZ",
        "outputId": "775dd098-6039-4b64-db25-7dcd67af95d7"
      },
      "execution_count": 135,
      "outputs": [
        {
          "output_type": "execute_result",
          "data": {
            "text/plain": [
              "array([ 1.,  2.,  3.,  4.,  5.,  6.,  7.,  8.,  9., 10.])"
            ]
          },
          "metadata": {},
          "execution_count": 135
        }
      ]
    },
    {
      "cell_type": "markdown",
      "source": [
        "Other important functions are:\n",
        "1. np.sort()\n",
        "2. np.argsort()\n",
        "3. np.argmax()\n",
        "4. np.unique()\n",
        "5. np.where(condition, True_value,false_value)"
      ],
      "metadata": {
        "id": "DY_RxvDom_V0"
      }
    },
    {
      "cell_type": "code",
      "source": [
        "np.random.seed(42)\n",
        "e=np.random.randint(40,80,10)\n",
        "e"
      ],
      "metadata": {
        "colab": {
          "base_uri": "https://localhost:8080/"
        },
        "id": "PNYegrEGnaiJ",
        "outputId": "2697a129-9100-4fe8-b880-327e70fa766d"
      },
      "execution_count": 136,
      "outputs": [
        {
          "output_type": "execute_result",
          "data": {
            "text/plain": [
              "array([78, 68, 54, 47, 60, 78, 58, 62, 50, 50])"
            ]
          },
          "metadata": {},
          "execution_count": 136
        }
      ]
    },
    {
      "cell_type": "code",
      "source": [
        "np.sort(e)"
      ],
      "metadata": {
        "colab": {
          "base_uri": "https://localhost:8080/"
        },
        "id": "3wHf09AHno54",
        "outputId": "b9e0b2c3-40e2-49c9-ccef-2af93f53f06d"
      },
      "execution_count": 137,
      "outputs": [
        {
          "output_type": "execute_result",
          "data": {
            "text/plain": [
              "array([47, 50, 50, 54, 58, 60, 62, 68, 78, 78])"
            ]
          },
          "metadata": {},
          "execution_count": 137
        }
      ]
    },
    {
      "cell_type": "code",
      "source": [
        "np.argsort(e) # gives indices in sorted manner"
      ],
      "metadata": {
        "colab": {
          "base_uri": "https://localhost:8080/"
        },
        "id": "s1NF5MLOnrzf",
        "outputId": "d3908df6-544c-4fa8-b09e-ef1c7098699d"
      },
      "execution_count": 140,
      "outputs": [
        {
          "output_type": "execute_result",
          "data": {
            "text/plain": [
              "array([3, 8, 9, 2, 6, 4, 7, 1, 0, 5])"
            ]
          },
          "metadata": {},
          "execution_count": 140
        }
      ]
    },
    {
      "cell_type": "code",
      "source": [
        "np.argmax(e)"
      ],
      "metadata": {
        "colab": {
          "base_uri": "https://localhost:8080/"
        },
        "id": "R76U60jnn6mh",
        "outputId": "907496b3-3a1a-463b-aea8-5e8f3dce8b18"
      },
      "execution_count": 142,
      "outputs": [
        {
          "output_type": "execute_result",
          "data": {
            "text/plain": [
              "0"
            ]
          },
          "metadata": {},
          "execution_count": 142
        }
      ]
    },
    {
      "cell_type": "code",
      "source": [
        "np.argmin(e)"
      ],
      "metadata": {
        "colab": {
          "base_uri": "https://localhost:8080/"
        },
        "id": "C-ZIHXAPoKBi",
        "outputId": "77667131-01a2-4888-c569-0e9d230ee59a"
      },
      "execution_count": 143,
      "outputs": [
        {
          "output_type": "execute_result",
          "data": {
            "text/plain": [
              "3"
            ]
          },
          "metadata": {},
          "execution_count": 143
        }
      ]
    },
    {
      "cell_type": "code",
      "source": [
        "f=np.array([1,2,3,3,4,4])\n",
        "np.unique(f)"
      ],
      "metadata": {
        "colab": {
          "base_uri": "https://localhost:8080/"
        },
        "id": "z_ZyZsjloO_g",
        "outputId": "c61d1a42-bc60-436c-81a4-25fa50ce9e99"
      },
      "execution_count": 144,
      "outputs": [
        {
          "output_type": "execute_result",
          "data": {
            "text/plain": [
              "array([1, 2, 3, 4])"
            ]
          },
          "metadata": {},
          "execution_count": 144
        }
      ]
    },
    {
      "cell_type": "code",
      "source": [
        "np.where(f==3,f+1,f)"
      ],
      "metadata": {
        "colab": {
          "base_uri": "https://localhost:8080/"
        },
        "id": "Pdlm4N8lodO4",
        "outputId": "3fbe6bdd-f9a9-4258-e3da-6ded3b7b325d"
      },
      "execution_count": 146,
      "outputs": [
        {
          "output_type": "execute_result",
          "data": {
            "text/plain": [
              "array([1, 2, 4, 4, 4, 4])"
            ]
          },
          "metadata": {},
          "execution_count": 146
        }
      ]
    },
    {
      "cell_type": "code",
      "source": [
        "d_2=np.vsplit(d,(4,5))[0]\n",
        "d_3=np.hsplit(d_2.reshape(2,4),2)[0]"
      ],
      "metadata": {
        "id": "KvXv9UOwo1lW"
      },
      "execution_count": 153,
      "outputs": []
    },
    {
      "cell_type": "code",
      "source": [
        "d_3"
      ],
      "metadata": {
        "colab": {
          "base_uri": "https://localhost:8080/"
        },
        "id": "UMfbpHFZpfWw",
        "outputId": "c2f5cc21-d685-40dd-d56a-a31d59b78fb3"
      },
      "execution_count": 156,
      "outputs": [
        {
          "output_type": "execute_result",
          "data": {
            "text/plain": [
              "array([[1., 2.],\n",
              "       [5., 6.]])"
            ]
          },
          "metadata": {},
          "execution_count": 156
        }
      ]
    },
    {
      "cell_type": "code",
      "source": [
        "np.rot90(d_3) # rotates matrix anti-clockwise"
      ],
      "metadata": {
        "colab": {
          "base_uri": "https://localhost:8080/"
        },
        "id": "TV7dO72npWWv",
        "outputId": "f29d3f47-6a2e-4b79-a978-41600eb86f79"
      },
      "execution_count": 155,
      "outputs": [
        {
          "output_type": "execute_result",
          "data": {
            "text/plain": [
              "array([[2., 6.],\n",
              "       [1., 5.]])"
            ]
          },
          "metadata": {},
          "execution_count": 155
        }
      ]
    }
  ]
}